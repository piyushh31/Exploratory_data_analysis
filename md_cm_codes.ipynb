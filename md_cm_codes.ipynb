{
 "cells": [
  {
   "cell_type": "code",
   "execution_count": 1,
   "id": "0e9c6560",
   "metadata": {},
   "outputs": [],
   "source": [
    "import warnings\n",
    "warnings.filterwarnings(\"ignore\")\n",
    "import pandas as pd\n",
    "import numpy as np\n",
    "import matplotlib\n",
    "import matplotlib.pyplot as plt\n",
    "import seaborn as sns\n",
    "from sklearn.preprocessing import LabelEncoder, StandardScaler\n",
    "from sklearn.impute import SimpleImputer\n",
    "from sklearn.model_selection import train_test_split\n",
    "from sklearn.linear_model import LinearRegression\n",
    "from sklearn.preprocessing import OneHotEncoder\n",
    "from sklearn.metrics import mean_squared_error\n",
    "from sklearn.metrics import accuracy_score\n",
    "from sklearn.compose import ColumnTransformer\n",
    "from sklearn.preprocessing import MinMaxScaler"
   ]
  },
  {
   "cell_type": "code",
   "execution_count": 2,
   "id": "21773bb7",
   "metadata": {},
   "outputs": [],
   "source": [
    "matplotlib.style.use('seaborn-white')\n",
    "matplotlib.rcParams['font.size'] = 18\n",
    "matplotlib.rcParams['figure.figsize'] = (12,7)\n",
    "matplotlib.rcParams['figure.facecolor'] = '#00000000'\n",
    "matplotlib.rcParams[\"font.weight\"] = \"bold\"\n",
    "matplotlib.rc('axes', labelsize=14, titlesize=14)\n",
    "matplotlib.rc('legend', fontsize=14)\n",
    "matplotlib.rc('xtick', labelsize=10)\n",
    "matplotlib.rc('ytick', labelsize=10)\n",
    "colors = ['#40128B','#DD58D6']"
   ]
  },
  {
   "cell_type": "code",
   "execution_count": 3,
   "id": "ad1c620f",
   "metadata": {},
   "outputs": [],
   "source": [
    "df=pd.read_csv(\"C:\\\\Users\\\\rawat\\\\Downloads\\\\car details v4.csv\")"
   ]
  },
  {
   "cell_type": "code",
   "execution_count": 4,
   "id": "93cb5c87",
   "metadata": {},
   "outputs": [
    {
     "data": {
      "text/html": [
       "<div>\n",
       "<style scoped>\n",
       "    .dataframe tbody tr th:only-of-type {\n",
       "        vertical-align: middle;\n",
       "    }\n",
       "\n",
       "    .dataframe tbody tr th {\n",
       "        vertical-align: top;\n",
       "    }\n",
       "\n",
       "    .dataframe thead th {\n",
       "        text-align: right;\n",
       "    }\n",
       "</style>\n",
       "<table border=\"1\" class=\"dataframe\">\n",
       "  <thead>\n",
       "    <tr style=\"text-align: right;\">\n",
       "      <th></th>\n",
       "      <th>Make</th>\n",
       "      <th>Model</th>\n",
       "      <th>Price</th>\n",
       "      <th>Year</th>\n",
       "      <th>Kilometer</th>\n",
       "      <th>Fuel Type</th>\n",
       "      <th>Transmission</th>\n",
       "      <th>Location</th>\n",
       "      <th>Color</th>\n",
       "      <th>Owner</th>\n",
       "      <th>Seller Type</th>\n",
       "      <th>Engine</th>\n",
       "      <th>Max Power</th>\n",
       "      <th>Max Torque</th>\n",
       "      <th>Drivetrain</th>\n",
       "      <th>Length</th>\n",
       "      <th>Width</th>\n",
       "      <th>Height</th>\n",
       "      <th>Seating Capacity</th>\n",
       "      <th>Fuel Tank Capacity</th>\n",
       "    </tr>\n",
       "  </thead>\n",
       "  <tbody>\n",
       "    <tr>\n",
       "      <th>0</th>\n",
       "      <td>Honda</td>\n",
       "      <td>Amaze 1.2 VX i-VTEC</td>\n",
       "      <td>505000</td>\n",
       "      <td>2017</td>\n",
       "      <td>87150</td>\n",
       "      <td>Petrol</td>\n",
       "      <td>Manual</td>\n",
       "      <td>Pune</td>\n",
       "      <td>Grey</td>\n",
       "      <td>First</td>\n",
       "      <td>Corporate</td>\n",
       "      <td>1198 cc</td>\n",
       "      <td>87 bhp @ 6000 rpm</td>\n",
       "      <td>109 Nm @ 4500 rpm</td>\n",
       "      <td>FWD</td>\n",
       "      <td>3990.0</td>\n",
       "      <td>1680.0</td>\n",
       "      <td>1505.0</td>\n",
       "      <td>5.0</td>\n",
       "      <td>35.0</td>\n",
       "    </tr>\n",
       "    <tr>\n",
       "      <th>1</th>\n",
       "      <td>Maruti Suzuki</td>\n",
       "      <td>Swift DZire VDI</td>\n",
       "      <td>450000</td>\n",
       "      <td>2014</td>\n",
       "      <td>75000</td>\n",
       "      <td>Diesel</td>\n",
       "      <td>Manual</td>\n",
       "      <td>Ludhiana</td>\n",
       "      <td>White</td>\n",
       "      <td>Second</td>\n",
       "      <td>Individual</td>\n",
       "      <td>1248 cc</td>\n",
       "      <td>74 bhp @ 4000 rpm</td>\n",
       "      <td>190 Nm @ 2000 rpm</td>\n",
       "      <td>FWD</td>\n",
       "      <td>3995.0</td>\n",
       "      <td>1695.0</td>\n",
       "      <td>1555.0</td>\n",
       "      <td>5.0</td>\n",
       "      <td>42.0</td>\n",
       "    </tr>\n",
       "    <tr>\n",
       "      <th>2</th>\n",
       "      <td>Hyundai</td>\n",
       "      <td>i10 Magna 1.2 Kappa2</td>\n",
       "      <td>220000</td>\n",
       "      <td>2011</td>\n",
       "      <td>67000</td>\n",
       "      <td>Petrol</td>\n",
       "      <td>Manual</td>\n",
       "      <td>Lucknow</td>\n",
       "      <td>Maroon</td>\n",
       "      <td>First</td>\n",
       "      <td>Individual</td>\n",
       "      <td>1197 cc</td>\n",
       "      <td>79 bhp @ 6000 rpm</td>\n",
       "      <td>112.7619 Nm @ 4000 rpm</td>\n",
       "      <td>FWD</td>\n",
       "      <td>3585.0</td>\n",
       "      <td>1595.0</td>\n",
       "      <td>1550.0</td>\n",
       "      <td>5.0</td>\n",
       "      <td>35.0</td>\n",
       "    </tr>\n",
       "  </tbody>\n",
       "</table>\n",
       "</div>"
      ],
      "text/plain": [
       "            Make                 Model   Price  Year  Kilometer Fuel Type  \\\n",
       "0          Honda   Amaze 1.2 VX i-VTEC  505000  2017      87150    Petrol   \n",
       "1  Maruti Suzuki       Swift DZire VDI  450000  2014      75000    Diesel   \n",
       "2        Hyundai  i10 Magna 1.2 Kappa2  220000  2011      67000    Petrol   \n",
       "\n",
       "  Transmission  Location   Color   Owner Seller Type   Engine  \\\n",
       "0       Manual      Pune    Grey   First   Corporate  1198 cc   \n",
       "1       Manual  Ludhiana   White  Second  Individual  1248 cc   \n",
       "2       Manual   Lucknow  Maroon   First  Individual  1197 cc   \n",
       "\n",
       "           Max Power              Max Torque Drivetrain  Length   Width  \\\n",
       "0  87 bhp @ 6000 rpm       109 Nm @ 4500 rpm        FWD  3990.0  1680.0   \n",
       "1  74 bhp @ 4000 rpm       190 Nm @ 2000 rpm        FWD  3995.0  1695.0   \n",
       "2  79 bhp @ 6000 rpm  112.7619 Nm @ 4000 rpm        FWD  3585.0  1595.0   \n",
       "\n",
       "   Height  Seating Capacity  Fuel Tank Capacity  \n",
       "0  1505.0               5.0                35.0  \n",
       "1  1555.0               5.0                42.0  \n",
       "2  1550.0               5.0                35.0  "
      ]
     },
     "execution_count": 4,
     "metadata": {},
     "output_type": "execute_result"
    }
   ],
   "source": [
    "df.head(3)"
   ]
  },
  {
   "cell_type": "code",
   "execution_count": 5,
   "id": "31cfc17b",
   "metadata": {},
   "outputs": [
    {
     "data": {
      "text/plain": [
       "(2059, 20)"
      ]
     },
     "execution_count": 5,
     "metadata": {},
     "output_type": "execute_result"
    }
   ],
   "source": [
    "df.shape"
   ]
  },
  {
   "cell_type": "code",
   "execution_count": 6,
   "id": "4e6b2503",
   "metadata": {},
   "outputs": [
    {
     "data": {
      "text/plain": [
       "Make                    0\n",
       "Model                   0\n",
       "Price                   0\n",
       "Year                    0\n",
       "Kilometer               0\n",
       "Fuel Type               0\n",
       "Transmission            0\n",
       "Location                0\n",
       "Color                   0\n",
       "Owner                   0\n",
       "Seller Type             0\n",
       "Engine                 80\n",
       "Max Power              80\n",
       "Max Torque             80\n",
       "Drivetrain            136\n",
       "Length                 64\n",
       "Width                  64\n",
       "Height                 64\n",
       "Seating Capacity       64\n",
       "Fuel Tank Capacity    113\n",
       "dtype: int64"
      ]
     },
     "execution_count": 6,
     "metadata": {},
     "output_type": "execute_result"
    }
   ],
   "source": [
    "df.isnull().sum()"
   ]
  },
  {
   "cell_type": "code",
   "execution_count": 7,
   "id": "c7fdb4b6",
   "metadata": {},
   "outputs": [
    {
     "data": {
      "text/html": [
       "<div>\n",
       "<style scoped>\n",
       "    .dataframe tbody tr th:only-of-type {\n",
       "        vertical-align: middle;\n",
       "    }\n",
       "\n",
       "    .dataframe tbody tr th {\n",
       "        vertical-align: top;\n",
       "    }\n",
       "\n",
       "    .dataframe thead th {\n",
       "        text-align: right;\n",
       "    }\n",
       "</style>\n",
       "<table border=\"1\" class=\"dataframe\">\n",
       "  <thead>\n",
       "    <tr style=\"text-align: right;\">\n",
       "      <th></th>\n",
       "      <th>Price</th>\n",
       "      <th>Year</th>\n",
       "      <th>Kilometer</th>\n",
       "      <th>Length</th>\n",
       "      <th>Width</th>\n",
       "      <th>Height</th>\n",
       "      <th>Seating Capacity</th>\n",
       "      <th>Fuel Tank Capacity</th>\n",
       "    </tr>\n",
       "  </thead>\n",
       "  <tbody>\n",
       "    <tr>\n",
       "      <th>count</th>\n",
       "      <td>2.059000e+03</td>\n",
       "      <td>2059.000000</td>\n",
       "      <td>2.059000e+03</td>\n",
       "      <td>1995.000000</td>\n",
       "      <td>1995.000000</td>\n",
       "      <td>1995.000000</td>\n",
       "      <td>1995.000000</td>\n",
       "      <td>1946.000000</td>\n",
       "    </tr>\n",
       "    <tr>\n",
       "      <th>mean</th>\n",
       "      <td>1.702992e+06</td>\n",
       "      <td>2016.425449</td>\n",
       "      <td>5.422471e+04</td>\n",
       "      <td>4280.860652</td>\n",
       "      <td>1767.991980</td>\n",
       "      <td>1591.735338</td>\n",
       "      <td>5.306266</td>\n",
       "      <td>52.002210</td>\n",
       "    </tr>\n",
       "    <tr>\n",
       "      <th>std</th>\n",
       "      <td>2.419881e+06</td>\n",
       "      <td>3.363564</td>\n",
       "      <td>5.736172e+04</td>\n",
       "      <td>442.458507</td>\n",
       "      <td>135.265825</td>\n",
       "      <td>136.073956</td>\n",
       "      <td>0.822170</td>\n",
       "      <td>15.110198</td>\n",
       "    </tr>\n",
       "    <tr>\n",
       "      <th>min</th>\n",
       "      <td>4.900000e+04</td>\n",
       "      <td>1988.000000</td>\n",
       "      <td>0.000000e+00</td>\n",
       "      <td>3099.000000</td>\n",
       "      <td>1475.000000</td>\n",
       "      <td>1165.000000</td>\n",
       "      <td>2.000000</td>\n",
       "      <td>15.000000</td>\n",
       "    </tr>\n",
       "    <tr>\n",
       "      <th>25%</th>\n",
       "      <td>4.849990e+05</td>\n",
       "      <td>2014.000000</td>\n",
       "      <td>2.900000e+04</td>\n",
       "      <td>3985.000000</td>\n",
       "      <td>1695.000000</td>\n",
       "      <td>1485.000000</td>\n",
       "      <td>5.000000</td>\n",
       "      <td>41.250000</td>\n",
       "    </tr>\n",
       "    <tr>\n",
       "      <th>50%</th>\n",
       "      <td>8.250000e+05</td>\n",
       "      <td>2017.000000</td>\n",
       "      <td>5.000000e+04</td>\n",
       "      <td>4370.000000</td>\n",
       "      <td>1770.000000</td>\n",
       "      <td>1545.000000</td>\n",
       "      <td>5.000000</td>\n",
       "      <td>50.000000</td>\n",
       "    </tr>\n",
       "    <tr>\n",
       "      <th>75%</th>\n",
       "      <td>1.925000e+06</td>\n",
       "      <td>2019.000000</td>\n",
       "      <td>7.200000e+04</td>\n",
       "      <td>4629.000000</td>\n",
       "      <td>1831.500000</td>\n",
       "      <td>1675.000000</td>\n",
       "      <td>5.000000</td>\n",
       "      <td>60.000000</td>\n",
       "    </tr>\n",
       "    <tr>\n",
       "      <th>max</th>\n",
       "      <td>3.500000e+07</td>\n",
       "      <td>2022.000000</td>\n",
       "      <td>2.000000e+06</td>\n",
       "      <td>5569.000000</td>\n",
       "      <td>2220.000000</td>\n",
       "      <td>1995.000000</td>\n",
       "      <td>8.000000</td>\n",
       "      <td>105.000000</td>\n",
       "    </tr>\n",
       "  </tbody>\n",
       "</table>\n",
       "</div>"
      ],
      "text/plain": [
       "              Price         Year     Kilometer       Length        Width  \\\n",
       "count  2.059000e+03  2059.000000  2.059000e+03  1995.000000  1995.000000   \n",
       "mean   1.702992e+06  2016.425449  5.422471e+04  4280.860652  1767.991980   \n",
       "std    2.419881e+06     3.363564  5.736172e+04   442.458507   135.265825   \n",
       "min    4.900000e+04  1988.000000  0.000000e+00  3099.000000  1475.000000   \n",
       "25%    4.849990e+05  2014.000000  2.900000e+04  3985.000000  1695.000000   \n",
       "50%    8.250000e+05  2017.000000  5.000000e+04  4370.000000  1770.000000   \n",
       "75%    1.925000e+06  2019.000000  7.200000e+04  4629.000000  1831.500000   \n",
       "max    3.500000e+07  2022.000000  2.000000e+06  5569.000000  2220.000000   \n",
       "\n",
       "            Height  Seating Capacity  Fuel Tank Capacity  \n",
       "count  1995.000000       1995.000000         1946.000000  \n",
       "mean   1591.735338          5.306266           52.002210  \n",
       "std     136.073956          0.822170           15.110198  \n",
       "min    1165.000000          2.000000           15.000000  \n",
       "25%    1485.000000          5.000000           41.250000  \n",
       "50%    1545.000000          5.000000           50.000000  \n",
       "75%    1675.000000          5.000000           60.000000  \n",
       "max    1995.000000          8.000000          105.000000  "
      ]
     },
     "execution_count": 7,
     "metadata": {},
     "output_type": "execute_result"
    }
   ],
   "source": [
    "df.describe()"
   ]
  },
  {
   "cell_type": "markdown",
   "id": "af64be73",
   "metadata": {},
   "source": [
    "# EDA"
   ]
  },
  {
   "cell_type": "code",
   "execution_count": 8,
   "id": "0ef9adaa",
   "metadata": {},
   "outputs": [
    {
     "data": {
      "image/png": "[encoded data removed]",
      "text/plain": [
       "<Figure size 864x504 with 1 Axes>"
      ]
     },
     "metadata": {
      "needs_background": "light"
     },
     "output_type": "display_data"
    }
   ],
   "source": [
    "# Create a histogram\n",
    "plt.hist(df['Price'], bins=40, edgecolor='black', alpha=0.7)\n",
    "plt.title('Distribution of Vehicle Prices')\n",
    "plt.xlabel('Price')\n",
    "plt.ylabel('Frequency')\n",
    "plt.show()"
   ]
  },
  {
   "cell_type": "raw",
   "id": "96de9f64",
   "metadata": {},
   "source": [
    "Most vehicle price 10 lakh to 50 lakh"
   ]
  },
  {
   "cell_type": "markdown",
   "id": "4fcbb865",
   "metadata": {},
   "source": [
    "# How does the price of vehicles vary with their manufacturing year?"
   ]
  },
  {
   "cell_type": "code",
   "execution_count": 9,
   "id": "88c489d5",
   "metadata": {},
   "outputs": [
    {
     "data": {
      "image/png": "[encoded data removed]",
      "text/plain": [
       "<Figure size 864x504 with 1 Axes>"
      ]
     },
     "metadata": {
      "needs_background": "light"
     },
     "output_type": "display_data"
    }
   ],
   "source": [
    "sns.scatterplot( x = 'Year' , y = 'Price' , data=df)\n",
    "plt.title('Price vs. Manufacturing Year')\n",
    "plt.xlabel('Manufacturing Year')\n",
    "plt.ylabel('Price')\n",
    "plt.show()"
   ]
  },
  {
   "cell_type": "raw",
   "id": "4cda93b3",
   "metadata": {},
   "source": [
    "Their is no as such relation between price and manufacturihng year"
   ]
  },
  {
   "cell_type": "markdown",
   "id": "877aa889",
   "metadata": {},
   "source": [
    "# What is the distribution of fuel types among the vehicles?"
   ]
  },
  {
   "cell_type": "code",
   "execution_count": 10,
   "id": "5f5b268f",
   "metadata": {},
   "outputs": [
    {
     "name": "stdout",
     "output_type": "stream",
     "text": [
      "['Petrol', 'Diesel', 'CNG']\n",
      "[1049, 942, 50]\n"
     ]
    }
   ],
   "source": [
    "#Taking Top 3 Values & marking other as 'Others'\n",
    "\n",
    "fuels_type = df['Fuel Type'].unique()\n",
    "fuels_type_count = df['Fuel Type'].value_counts()\n",
    "top_n = 3\n",
    "top_fuel_types = list(fuels_type[:top_n])\n",
    "top_count = list(fuels_type_count[:top_n])\n",
    "print(top_fuel_types)\n",
    "print(top_count)"
   ]
  },
  {
   "cell_type": "code",
   "execution_count": 13,
   "id": "abea6bfa",
   "metadata": {},
   "outputs": [],
   "source": [
    "others_count = sum(fuels_type_count[top_n:])\n",
    "top_fuel_types.append('Others')\n",
    "top_count.append(others_count)"
   ]
  },
  {
   "cell_type": "code",
   "execution_count": 20,
   "id": "299e8a8a",
   "metadata": {},
   "outputs": [
    {
     "data": {
      "image/png": "[encoded data removed]",
      "text/plain": [
       "<Figure size 576x576 with 1 Axes>"
      ]
     },
     "metadata": {},
     "output_type": "display_data"
    }
   ],
   "source": [
    "#Create a pie chart\n",
    "\n",
    "explode = (0.1,0,0.1,0)\n",
    "plt.figure(figsize=(8, 8))\n",
    "plt.pie(top_count, autopct='%1.1f%%', startangle=140,explode=explode)\n",
    "plt.title('Distribution of Fuel Types')\n",
    "plt.axis('equal') # Equal aspect ratio ensures that pie is drawn as a circle.\n",
    "# Show the pie chart\n",
    "plt.show()"
   ]
  },
  {
   "cell_type": "raw",
   "id": "4d8e4edc",
   "metadata": {},
   "source": [
    "95 % of vehicle are either petrol or diesel"
   ]
  },
  {
   "cell_type": "markdown",
   "id": "f5a54df3",
   "metadata": {},
   "source": [
    "# How are vehicles distributed based on their transmission types?"
   ]
  },
  {
   "cell_type": "code",
   "execution_count": 23,
   "id": "5b0aa28e",
   "metadata": {},
   "outputs": [
    {
     "data": {
      "image/png": "[encoded data removed]",
      "text/plain": [
       "<Figure size 576x432 with 1 Axes>"
      ]
     },
     "metadata": {
      "needs_background": "light"
     },
     "output_type": "display_data"
    }
   ],
   "source": [
    "plt.figure(figsize=(8, 6))\n",
    "transmission_count = df['Transmission'].value_counts()\n",
    "transmission_count.plot(kind='bar');\n",
    "plt.title('Distribution of Transmission Types')\n",
    "plt.xlabel('Transmission Type')\n",
    "plt.ylabel('Count')\n",
    "# Rotate x-axis labels for better readability (optional)\n",
    "plt.xticks(rotation=45)\n",
    "# Show the bar chart\n",
    "plt.tight_layout()\n",
    "plt.show()"
   ]
  },
  {
   "cell_type": "raw",
   "id": "3c4b3cd2",
   "metadata": {},
   "source": [
    "Their is almost equal distribution in Manual & Automatic vehicle."
   ]
  },
  {
   "cell_type": "markdown",
   "id": "2b8a27a0",
   "metadata": {},
   "source": [
    "# Which top 10 locations have the most listings for vehicles?"
   ]
  },
  {
   "cell_type": "code",
   "execution_count": 24,
   "id": "d18f1713",
   "metadata": {},
   "outputs": [
    {
     "name": "stdout",
     "output_type": "stream",
     "text": [
      "['Pune', 'Ludhiana', 'Lucknow', 'Mangalore', 'Mumbai', 'Coimbatore', 'Bangalore', 'Delhi', 'Raipur', 'Kanpur']\n",
      "[342, 307, 144, 132, 116, 78, 70, 63, 60, 52]\n"
     ]
    }
   ],
   "source": [
    "#Top 10 locations\n",
    "location = df['Location'].unique()\n",
    "location_count = df['Location'].value_counts()\n",
    "top_n = 10\n",
    "top_location = list(location[:top_n])\n",
    "top_location_count = list(location_count[:top_n])\n",
    "print(top_location)\n",
    "print(top_location_count)\n"
   ]
  },
  {
   "cell_type": "code",
   "execution_count": 25,
   "id": "7b56b7c6",
   "metadata": {},
   "outputs": [
    {
     "data": {
      "image/png": "[encoded data removed]",
      "text/plain": [
       "<Figure size 720x432 with 1 Axes>"
      ]
     },
     "metadata": {
      "needs_background": "light"
     },
     "output_type": "display_data"
    }
   ],
   "source": [
    "plt.figure(figsize=(10, 6))\n",
    "sns.barplot(x=top_location, y=top_location_count, palette='colorblind')\n",
    "plt.title('Distribution of Vehicle Locations')\n",
    "plt.xlabel('Location')\n",
    "plt.ylabel('Count')\n",
    "plt.xticks(rotation=45)\n",
    "plt.tight_layout()\n",
    "plt.show()"
   ]
  },
  {
   "cell_type": "markdown",
   "id": "39e7009b",
   "metadata": {},
   "source": [
    "# What types of sellers are most prevalent in the dataset?"
   ]
  },
  {
   "cell_type": "code",
   "execution_count": 26,
   "id": "23e3ed8d",
   "metadata": {},
   "outputs": [
    {
     "data": {
      "image/png": "[encoded data removed]",
      "text/plain": [
       "<Figure size 576x432 with 1 Axes>"
      ]
     },
     "metadata": {
      "needs_background": "light"
     },
     "output_type": "display_data"
    }
   ],
   "source": [
    "# Top 10 locations\n",
    "seller = list(df['Seller Type'].unique())\n",
    "seller_count = list(df['Seller Type'].value_counts())\n",
    "plt.figure(figsize=(8, 6))\n",
    "sns.barplot(x= seller, y=seller_count, palette='colorblind')\n",
    "plt.title('Distribution of Seller Type')\n",
    "plt.xlabel('Seller Type')\n",
    "plt.ylabel('Count')\n",
    "plt.xticks(rotation=45)\n",
    "plt.tight_layout()\n",
    "plt.show()"
   ]
  },
  {
   "cell_type": "raw",
   "id": "975cd72c",
   "metadata": {},
   "source": [
    "Over 98% of seller are corporate ones."
   ]
  },
  {
   "cell_type": "code",
   "execution_count": 29,
   "id": "b45f455f",
   "metadata": {},
   "outputs": [
    {
     "data": {
      "image/png": "[encoded data removed]",
      "text/plain": [
       "<Figure size 720x720 with 2 Axes>"
      ]
     },
     "metadata": {
      "needs_background": "light"
     },
     "output_type": "display_data"
    }
   ],
   "source": [
    "#Plot Matrix of Correlation\n",
    "plt.figure(figsize=(10,10))\n",
    "plt.rcParams.update({'font.size': 14})\n",
    "heatmap_colors = [colors[1], '#d6d5c9', '#FE0000']\n",
    "corr = df.corr()\n",
    "mask = np.triu(np.ones_like(corr, dtype=bool))\n",
    "sns.heatmap(df.corr(), \n",
    " mask=mask,\n",
    " center=0,\n",
    " annot=True,\n",
    " fmt='.2f',\n",
    " cmap=heatmap_colors,\n",
    " square=True,\n",
    " linewidths=.2,\n",
    " cbar_kws={\"shrink\": .6})\n",
    "plt.title('Features Correlation Matrix Heatmap', fontsize=25);"
   ]
  },
  {
   "cell_type": "raw",
   "id": "6c38f148",
   "metadata": {},
   "source": [
    "Numerical Features Length , Width , Year , Fuel Tank Capacity & Seating Capacity show good correlation with 'Price'"
   ]
  },
  {
   "cell_type": "markdown",
   "id": "7c6ddef0",
   "metadata": {},
   "source": [
    "# DATA PREPROCESSING"
   ]
  },
  {
   "cell_type": "code",
   "execution_count": 30,
   "id": "213b3c91",
   "metadata": {},
   "outputs": [],
   "source": [
    "input_cols = ['Year', 'Kilometer', 'Fuel Type',\n",
    " 'Transmission', 'Location','Engine', 'Length', 'Width', \n",
    " 'Seating Capacity', 'Fuel Tank Capacity']\n",
    "target_col = 'Price'"
   ]
  },
  {
   "cell_type": "code",
   "execution_count": 31,
   "id": "1fcd13a5",
   "metadata": {},
   "outputs": [
    {
     "data": {
      "text/html": [
       "<div>\n",
       "<style scoped>\n",
       "    .dataframe tbody tr th:only-of-type {\n",
       "        vertical-align: middle;\n",
       "    }\n",
       "\n",
       "    .dataframe tbody tr th {\n",
       "        vertical-align: top;\n",
       "    }\n",
       "\n",
       "    .dataframe thead th {\n",
       "        text-align: right;\n",
       "    }\n",
       "</style>\n",
       "<table border=\"1\" class=\"dataframe\">\n",
       "  <thead>\n",
       "    <tr style=\"text-align: right;\">\n",
       "      <th></th>\n",
       "      <th>Year</th>\n",
       "      <th>Kilometer</th>\n",
       "      <th>Fuel Type</th>\n",
       "      <th>Transmission</th>\n",
       "      <th>Location</th>\n",
       "      <th>Engine</th>\n",
       "      <th>Length</th>\n",
       "      <th>Width</th>\n",
       "      <th>Seating Capacity</th>\n",
       "      <th>Fuel Tank Capacity</th>\n",
       "    </tr>\n",
       "  </thead>\n",
       "  <tbody>\n",
       "    <tr>\n",
       "      <th>0</th>\n",
       "      <td>2017</td>\n",
       "      <td>87150</td>\n",
       "      <td>Petrol</td>\n",
       "      <td>Manual</td>\n",
       "      <td>Pune</td>\n",
       "      <td>1198 cc</td>\n",
       "      <td>3990.0</td>\n",
       "      <td>1680.0</td>\n",
       "      <td>5.0</td>\n",
       "      <td>35.0</td>\n",
       "    </tr>\n",
       "    <tr>\n",
       "      <th>1</th>\n",
       "      <td>2014</td>\n",
       "      <td>75000</td>\n",
       "      <td>Diesel</td>\n",
       "      <td>Manual</td>\n",
       "      <td>Ludhiana</td>\n",
       "      <td>1248 cc</td>\n",
       "      <td>3995.0</td>\n",
       "      <td>1695.0</td>\n",
       "      <td>5.0</td>\n",
       "      <td>42.0</td>\n",
       "    </tr>\n",
       "    <tr>\n",
       "      <th>2</th>\n",
       "      <td>2011</td>\n",
       "      <td>67000</td>\n",
       "      <td>Petrol</td>\n",
       "      <td>Manual</td>\n",
       "      <td>Lucknow</td>\n",
       "      <td>1197 cc</td>\n",
       "      <td>3585.0</td>\n",
       "      <td>1595.0</td>\n",
       "      <td>5.0</td>\n",
       "      <td>35.0</td>\n",
       "    </tr>\n",
       "  </tbody>\n",
       "</table>\n",
       "</div>"
      ],
      "text/plain": [
       "   Year  Kilometer Fuel Type Transmission  Location   Engine  Length   Width  \\\n",
       "0  2017      87150    Petrol       Manual      Pune  1198 cc  3990.0  1680.0   \n",
       "1  2014      75000    Diesel       Manual  Ludhiana  1248 cc  3995.0  1695.0   \n",
       "2  2011      67000    Petrol       Manual   Lucknow  1197 cc  3585.0  1595.0   \n",
       "\n",
       "   Seating Capacity  Fuel Tank Capacity  \n",
       "0               5.0                35.0  \n",
       "1               5.0                42.0  \n",
       "2               5.0                35.0  "
      ]
     },
     "execution_count": 31,
     "metadata": {},
     "output_type": "execute_result"
    }
   ],
   "source": [
    "new_df = df[input_cols]\n",
    "new_df.head(3)"
   ]
  },
  {
   "cell_type": "code",
   "execution_count": 32,
   "id": "b5dfae18",
   "metadata": {},
   "outputs": [
    {
     "data": {
      "text/plain": [
       "Year                    0\n",
       "Kilometer               0\n",
       "Fuel Type               0\n",
       "Transmission            0\n",
       "Location                0\n",
       "Engine                 80\n",
       "Length                 64\n",
       "Width                  64\n",
       "Seating Capacity       64\n",
       "Fuel Tank Capacity    113\n",
       "dtype: int64"
      ]
     },
     "execution_count": 32,
     "metadata": {},
     "output_type": "execute_result"
    }
   ],
   "source": [
    "new_df.isnull().sum()"
   ]
  },
  {
   "cell_type": "code",
   "execution_count": 33,
   "id": "32ed6440",
   "metadata": {},
   "outputs": [
    {
     "data": {
      "text/plain": [
       "(2059, 10)"
      ]
     },
     "execution_count": 33,
     "metadata": {},
     "output_type": "execute_result"
    }
   ],
   "source": [
    "new_df.shape"
   ]
  },
  {
   "cell_type": "code",
   "execution_count": 34,
   "id": "86a55738",
   "metadata": {},
   "outputs": [],
   "source": [
    "#identifying categorical and numerical columns\n",
    "numeric_cols = new_df.select_dtypes( include = np.number ).columns.tolist()\n",
    "categorical_cols = new_df.select_dtypes('object').columns.tolist()"
   ]
  },
  {
   "cell_type": "code",
   "execution_count": 35,
   "id": "7af2c437",
   "metadata": {},
   "outputs": [
    {
     "name": "stdout",
     "output_type": "stream",
     "text": [
      "['Year', 'Kilometer', 'Length', 'Width', 'Seating Capacity', 'Fuel Tank Capacity']\n",
      "['Fuel Type', 'Transmission', 'Location', 'Engine']\n"
     ]
    }
   ],
   "source": [
    "print(numeric_cols)\n",
    "print(categorical_cols)"
   ]
  },
  {
   "cell_type": "markdown",
   "id": "ad32219c",
   "metadata": {},
   "source": [
    "# handling missing values"
   ]
  },
  {
   "cell_type": "code",
   "execution_count": 36,
   "id": "94ea66cb",
   "metadata": {},
   "outputs": [],
   "source": [
    "#numerical columns\n",
    "imputer = SimpleImputer(strategy = 'median')"
   ]
  },
  {
   "cell_type": "code",
   "execution_count": 37,
   "id": "7eea5d58",
   "metadata": {},
   "outputs": [
    {
     "data": {
      "text/plain": [
       "SimpleImputer(strategy='median')"
      ]
     },
     "execution_count": 37,
     "metadata": {},
     "output_type": "execute_result"
    }
   ],
   "source": [
    "imputer.fit(new_df[numeric_cols])"
   ]
  },
  {
   "cell_type": "code",
   "execution_count": 38,
   "id": "c9531ea5",
   "metadata": {},
   "outputs": [],
   "source": [
    "new_df[numeric_cols] = imputer.transform(new_df[numeric_cols])"
   ]
  },
  {
   "cell_type": "code",
   "execution_count": 39,
   "id": "8897dfba",
   "metadata": {},
   "outputs": [
    {
     "data": {
      "text/plain": [
       "Year                  0\n",
       "Kilometer             0\n",
       "Length                0\n",
       "Width                 0\n",
       "Seating Capacity      0\n",
       "Fuel Tank Capacity    0\n",
       "dtype: int64"
      ]
     },
     "execution_count": 39,
     "metadata": {},
     "output_type": "execute_result"
    }
   ],
   "source": [
    "new_df[numeric_cols].isnull().sum()"
   ]
  },
  {
   "cell_type": "code",
   "execution_count": 40,
   "id": "2b30003e",
   "metadata": {},
   "outputs": [],
   "source": [
    "#categorical\n",
    "imputer_category = SimpleImputer(strategy = 'most_frequent')"
   ]
  },
  {
   "cell_type": "code",
   "execution_count": 41,
   "id": "8b278e11",
   "metadata": {},
   "outputs": [
    {
     "data": {
      "text/plain": [
       "SimpleImputer(strategy='most_frequent')"
      ]
     },
     "execution_count": 41,
     "metadata": {},
     "output_type": "execute_result"
    }
   ],
   "source": [
    "imputer_category.fit(new_df[categorical_cols])"
   ]
  },
  {
   "cell_type": "code",
   "execution_count": 42,
   "id": "7327cb3f",
   "metadata": {},
   "outputs": [],
   "source": [
    "new_df[categorical_cols] = imputer_category.transform(new_df[categorical_cols])"
   ]
  },
  {
   "cell_type": "code",
   "execution_count": 43,
   "id": "2212cf55",
   "metadata": {},
   "outputs": [
    {
     "data": {
      "text/plain": [
       "Fuel Type       0\n",
       "Transmission    0\n",
       "Location        0\n",
       "Engine          0\n",
       "dtype: int64"
      ]
     },
     "execution_count": 43,
     "metadata": {},
     "output_type": "execute_result"
    }
   ],
   "source": [
    "new_df[categorical_cols].isnull().sum()"
   ]
  },
  {
   "cell_type": "code",
   "execution_count": 44,
   "id": "f0ad22a6",
   "metadata": {},
   "outputs": [
    {
     "data": {
      "text/plain": [
       "Year                  0\n",
       "Kilometer             0\n",
       "Fuel Type             0\n",
       "Transmission          0\n",
       "Location              0\n",
       "Engine                0\n",
       "Length                0\n",
       "Width                 0\n",
       "Seating Capacity      0\n",
       "Fuel Tank Capacity    0\n",
       "dtype: int64"
      ]
     },
     "execution_count": 44,
     "metadata": {},
     "output_type": "execute_result"
    }
   ],
   "source": [
    "new_df.isnull().sum()"
   ]
  },
  {
   "cell_type": "markdown",
   "id": "f6c01b64",
   "metadata": {},
   "source": [
    "# Encoding Categorical Columns"
   ]
  },
  {
   "cell_type": "code",
   "execution_count": 67,
   "id": "b8ae91da",
   "metadata": {},
   "outputs": [],
   "source": [
    "import pandas as pd\n",
    "from sklearn.preprocessing import OneHotEncoder\n",
    "\n",
    "# Create an instance of the OneHotEncoder\n",
    "encoder = OneHotEncoder(sparse=False, handle_unknown='ignore')\n",
    "\n",
    "# Fit and transform your categorical columns\n",
    "encoded_data = encoder.fit_transform(new_df[categorical_cols])\n",
    "\n",
    "# Get the feature names\n",
    "encoded_cols = []\n",
    "\n",
    "for col_name, cats in zip(categorical_cols, encoder.categories_):\n",
    "    encoded_cols.extend([f'{col_name}_{cat}' for cat in cats])\n",
    "\n",
    "# Create a DataFrame from the encoded data\n",
    "encoded_df = pd.DataFrame(encoded_data, columns=encoded_cols)\n",
    "\n",
    "# Concatenate the encoded DataFrame with the original DataFrame\n",
    "new_df = pd.concat([new_df, encoded_df], axis=1)"
   ]
  },
  {
   "cell_type": "markdown",
   "id": "2f169b8c",
   "metadata": {},
   "source": [
    "# Scaling The Data"
   ]
  },
  {
   "cell_type": "code",
   "execution_count": 68,
   "id": "d0e4c603",
   "metadata": {},
   "outputs": [
    {
     "data": {
      "text/html": [
       "<div>\n",
       "<style scoped>\n",
       "    .dataframe tbody tr th:only-of-type {\n",
       "        vertical-align: middle;\n",
       "    }\n",
       "\n",
       "    .dataframe tbody tr th {\n",
       "        vertical-align: top;\n",
       "    }\n",
       "\n",
       "    .dataframe thead th {\n",
       "        text-align: right;\n",
       "    }\n",
       "</style>\n",
       "<table border=\"1\" class=\"dataframe\">\n",
       "  <thead>\n",
       "    <tr style=\"text-align: right;\">\n",
       "      <th></th>\n",
       "      <th>Year</th>\n",
       "      <th>Kilometer</th>\n",
       "      <th>Fuel Type</th>\n",
       "      <th>Transmission</th>\n",
       "      <th>Location</th>\n",
       "      <th>Engine</th>\n",
       "      <th>Length</th>\n",
       "      <th>Width</th>\n",
       "      <th>Seating Capacity</th>\n",
       "      <th>Fuel Tank Capacity</th>\n",
       "      <th>...</th>\n",
       "      <th>Engine_624 cc</th>\n",
       "      <th>Engine_6592 cc</th>\n",
       "      <th>Engine_793 cc</th>\n",
       "      <th>Engine_796 cc</th>\n",
       "      <th>Engine_799 cc</th>\n",
       "      <th>Engine_814 cc</th>\n",
       "      <th>Engine_936 cc</th>\n",
       "      <th>Engine_995 cc</th>\n",
       "      <th>Engine_998 cc</th>\n",
       "      <th>Engine_999 cc</th>\n",
       "    </tr>\n",
       "  </thead>\n",
       "  <tbody>\n",
       "    <tr>\n",
       "      <th>0</th>\n",
       "      <td>0.852941</td>\n",
       "      <td>0.043575</td>\n",
       "      <td>Petrol</td>\n",
       "      <td>Manual</td>\n",
       "      <td>Pune</td>\n",
       "      <td>1198 cc</td>\n",
       "      <td>0.360729</td>\n",
       "      <td>0.275168</td>\n",
       "      <td>0.5</td>\n",
       "      <td>0.222222</td>\n",
       "      <td>...</td>\n",
       "      <td>0.0</td>\n",
       "      <td>0.0</td>\n",
       "      <td>0.0</td>\n",
       "      <td>0.0</td>\n",
       "      <td>0.0</td>\n",
       "      <td>0.0</td>\n",
       "      <td>0.0</td>\n",
       "      <td>0.0</td>\n",
       "      <td>0.0</td>\n",
       "      <td>0.0</td>\n",
       "    </tr>\n",
       "    <tr>\n",
       "      <th>1</th>\n",
       "      <td>0.764706</td>\n",
       "      <td>0.037500</td>\n",
       "      <td>Diesel</td>\n",
       "      <td>Manual</td>\n",
       "      <td>Ludhiana</td>\n",
       "      <td>1248 cc</td>\n",
       "      <td>0.362753</td>\n",
       "      <td>0.295302</td>\n",
       "      <td>0.5</td>\n",
       "      <td>0.300000</td>\n",
       "      <td>...</td>\n",
       "      <td>0.0</td>\n",
       "      <td>0.0</td>\n",
       "      <td>0.0</td>\n",
       "      <td>0.0</td>\n",
       "      <td>0.0</td>\n",
       "      <td>0.0</td>\n",
       "      <td>0.0</td>\n",
       "      <td>0.0</td>\n",
       "      <td>0.0</td>\n",
       "      <td>0.0</td>\n",
       "    </tr>\n",
       "    <tr>\n",
       "      <th>2</th>\n",
       "      <td>0.676471</td>\n",
       "      <td>0.033500</td>\n",
       "      <td>Petrol</td>\n",
       "      <td>Manual</td>\n",
       "      <td>Lucknow</td>\n",
       "      <td>1197 cc</td>\n",
       "      <td>0.196761</td>\n",
       "      <td>0.161074</td>\n",
       "      <td>0.5</td>\n",
       "      <td>0.222222</td>\n",
       "      <td>...</td>\n",
       "      <td>0.0</td>\n",
       "      <td>0.0</td>\n",
       "      <td>0.0</td>\n",
       "      <td>0.0</td>\n",
       "      <td>0.0</td>\n",
       "      <td>0.0</td>\n",
       "      <td>0.0</td>\n",
       "      <td>0.0</td>\n",
       "      <td>0.0</td>\n",
       "      <td>0.0</td>\n",
       "    </tr>\n",
       "  </tbody>\n",
       "</table>\n",
       "<p>3 rows × 206 columns</p>\n",
       "</div>"
      ],
      "text/plain": [
       "       Year  Kilometer Fuel Type Transmission  Location   Engine    Length  \\\n",
       "0  0.852941   0.043575    Petrol       Manual      Pune  1198 cc  0.360729   \n",
       "1  0.764706   0.037500    Diesel       Manual  Ludhiana  1248 cc  0.362753   \n",
       "2  0.676471   0.033500    Petrol       Manual   Lucknow  1197 cc  0.196761   \n",
       "\n",
       "      Width  Seating Capacity  Fuel Tank Capacity  ...  Engine_624 cc  \\\n",
       "0  0.275168               0.5            0.222222  ...            0.0   \n",
       "1  0.295302               0.5            0.300000  ...            0.0   \n",
       "2  0.161074               0.5            0.222222  ...            0.0   \n",
       "\n",
       "   Engine_6592 cc  Engine_793 cc  Engine_796 cc  Engine_799 cc  Engine_814 cc  \\\n",
       "0             0.0            0.0            0.0            0.0            0.0   \n",
       "1             0.0            0.0            0.0            0.0            0.0   \n",
       "2             0.0            0.0            0.0            0.0            0.0   \n",
       "\n",
       "   Engine_936 cc  Engine_995 cc  Engine_998 cc  Engine_999 cc  \n",
       "0            0.0            0.0            0.0            0.0  \n",
       "1            0.0            0.0            0.0            0.0  \n",
       "2            0.0            0.0            0.0            0.0  \n",
       "\n",
       "[3 rows x 206 columns]"
      ]
     },
     "execution_count": 68,
     "metadata": {},
     "output_type": "execute_result"
    }
   ],
   "source": [
    "scaler = MinMaxScaler()\n",
    "scaler.fit(new_df[numeric_cols])\n",
    "new_df[numeric_cols] = scaler.transform(new_df[numeric_cols])\n",
    "new_df.head(3)"
   ]
  },
  {
   "cell_type": "code",
   "execution_count": 69,
   "id": "573815e9",
   "metadata": {},
   "outputs": [
    {
     "data": {
      "text/html": [
       "<div>\n",
       "<style scoped>\n",
       "    .dataframe tbody tr th:only-of-type {\n",
       "        vertical-align: middle;\n",
       "    }\n",
       "\n",
       "    .dataframe tbody tr th {\n",
       "        vertical-align: top;\n",
       "    }\n",
       "\n",
       "    .dataframe thead th {\n",
       "        text-align: right;\n",
       "    }\n",
       "</style>\n",
       "<table border=\"1\" class=\"dataframe\">\n",
       "  <thead>\n",
       "    <tr style=\"text-align: right;\">\n",
       "      <th></th>\n",
       "      <th>Fuel Type_CNG</th>\n",
       "      <th>Fuel Type_CNG + CNG</th>\n",
       "      <th>Fuel Type_Diesel</th>\n",
       "      <th>Fuel Type_Electric</th>\n",
       "      <th>Fuel Type_Hybrid</th>\n",
       "      <th>Fuel Type_LPG</th>\n",
       "      <th>Fuel Type_Petrol</th>\n",
       "      <th>Fuel Type_Petrol + CNG</th>\n",
       "      <th>Fuel Type_Petrol + LPG</th>\n",
       "      <th>Transmission_Automatic</th>\n",
       "      <th>...</th>\n",
       "      <th>Engine_936 cc</th>\n",
       "      <th>Engine_995 cc</th>\n",
       "      <th>Engine_998 cc</th>\n",
       "      <th>Engine_999 cc</th>\n",
       "      <th>Year</th>\n",
       "      <th>Kilometer</th>\n",
       "      <th>Length</th>\n",
       "      <th>Width</th>\n",
       "      <th>Seating Capacity</th>\n",
       "      <th>Fuel Tank Capacity</th>\n",
       "    </tr>\n",
       "  </thead>\n",
       "  <tbody>\n",
       "    <tr>\n",
       "      <th>0</th>\n",
       "      <td>0.0</td>\n",
       "      <td>0.0</td>\n",
       "      <td>0.0</td>\n",
       "      <td>0.0</td>\n",
       "      <td>0.0</td>\n",
       "      <td>0.0</td>\n",
       "      <td>1.0</td>\n",
       "      <td>0.0</td>\n",
       "      <td>0.0</td>\n",
       "      <td>0.0</td>\n",
       "      <td>...</td>\n",
       "      <td>0.0</td>\n",
       "      <td>0.0</td>\n",
       "      <td>0.0</td>\n",
       "      <td>0.0</td>\n",
       "      <td>0.852941</td>\n",
       "      <td>0.043575</td>\n",
       "      <td>0.360729</td>\n",
       "      <td>0.275168</td>\n",
       "      <td>0.5</td>\n",
       "      <td>0.222222</td>\n",
       "    </tr>\n",
       "    <tr>\n",
       "      <th>1</th>\n",
       "      <td>0.0</td>\n",
       "      <td>0.0</td>\n",
       "      <td>1.0</td>\n",
       "      <td>0.0</td>\n",
       "      <td>0.0</td>\n",
       "      <td>0.0</td>\n",
       "      <td>0.0</td>\n",
       "      <td>0.0</td>\n",
       "      <td>0.0</td>\n",
       "      <td>0.0</td>\n",
       "      <td>...</td>\n",
       "      <td>0.0</td>\n",
       "      <td>0.0</td>\n",
       "      <td>0.0</td>\n",
       "      <td>0.0</td>\n",
       "      <td>0.764706</td>\n",
       "      <td>0.037500</td>\n",
       "      <td>0.362753</td>\n",
       "      <td>0.295302</td>\n",
       "      <td>0.5</td>\n",
       "      <td>0.300000</td>\n",
       "    </tr>\n",
       "    <tr>\n",
       "      <th>2</th>\n",
       "      <td>0.0</td>\n",
       "      <td>0.0</td>\n",
       "      <td>0.0</td>\n",
       "      <td>0.0</td>\n",
       "      <td>0.0</td>\n",
       "      <td>0.0</td>\n",
       "      <td>1.0</td>\n",
       "      <td>0.0</td>\n",
       "      <td>0.0</td>\n",
       "      <td>0.0</td>\n",
       "      <td>...</td>\n",
       "      <td>0.0</td>\n",
       "      <td>0.0</td>\n",
       "      <td>0.0</td>\n",
       "      <td>0.0</td>\n",
       "      <td>0.676471</td>\n",
       "      <td>0.033500</td>\n",
       "      <td>0.196761</td>\n",
       "      <td>0.161074</td>\n",
       "      <td>0.5</td>\n",
       "      <td>0.222222</td>\n",
       "    </tr>\n",
       "  </tbody>\n",
       "</table>\n",
       "<p>3 rows × 202 columns</p>\n",
       "</div>"
      ],
      "text/plain": [
       "   Fuel Type_CNG  Fuel Type_CNG + CNG  Fuel Type_Diesel  Fuel Type_Electric  \\\n",
       "0            0.0                  0.0               0.0                 0.0   \n",
       "1            0.0                  0.0               1.0                 0.0   \n",
       "2            0.0                  0.0               0.0                 0.0   \n",
       "\n",
       "   Fuel Type_Hybrid  Fuel Type_LPG  Fuel Type_Petrol  Fuel Type_Petrol + CNG  \\\n",
       "0               0.0            0.0               1.0                     0.0   \n",
       "1               0.0            0.0               0.0                     0.0   \n",
       "2               0.0            0.0               1.0                     0.0   \n",
       "\n",
       "   Fuel Type_Petrol + LPG  Transmission_Automatic  ...  Engine_936 cc  \\\n",
       "0                     0.0                     0.0  ...            0.0   \n",
       "1                     0.0                     0.0  ...            0.0   \n",
       "2                     0.0                     0.0  ...            0.0   \n",
       "\n",
       "   Engine_995 cc  Engine_998 cc  Engine_999 cc      Year  Kilometer    Length  \\\n",
       "0            0.0            0.0            0.0  0.852941   0.043575  0.360729   \n",
       "1            0.0            0.0            0.0  0.764706   0.037500  0.362753   \n",
       "2            0.0            0.0            0.0  0.676471   0.033500  0.196761   \n",
       "\n",
       "      Width  Seating Capacity  Fuel Tank Capacity  \n",
       "0  0.275168               0.5            0.222222  \n",
       "1  0.295302               0.5            0.300000  \n",
       "2  0.161074               0.5            0.222222  \n",
       "\n",
       "[3 rows x 202 columns]"
      ]
     },
     "execution_count": 69,
     "metadata": {},
     "output_type": "execute_result"
    }
   ],
   "source": [
    "new_df_final = new_df[encoded_cols + numeric_cols]\n",
    "new_df_final.head(3)"
   ]
  },
  {
   "cell_type": "code",
   "execution_count": 70,
   "id": "e5b04178",
   "metadata": {},
   "outputs": [],
   "source": [
    "#train/test/split"
   ]
  },
  {
   "cell_type": "code",
   "execution_count": 71,
   "id": "2d5813b2",
   "metadata": {},
   "outputs": [
    {
     "name": "stdout",
     "output_type": "stream",
     "text": [
      "(1647, 202)\n",
      "(412, 202)\n",
      "(1647,)\n",
      "(412,)\n"
     ]
    }
   ],
   "source": [
    "x = new_df_final.values\n",
    "y = df[target_col].values\n",
    "# Split the data into training and testing sets\n",
    "X_train, X_test, y_train, y_test = train_test_split(x, y, test_size=0.2, random_state=42)\n",
    "print(X_train.shape)\n",
    "print(X_test.shape)\n",
    "print(y_train.shape)\n",
    "print(y_test.shape)\n"
   ]
  },
  {
   "cell_type": "markdown",
   "id": "2b08399e",
   "metadata": {},
   "source": [
    "\n",
    "# model training"
   ]
  },
  {
   "cell_type": "code",
   "execution_count": 73,
   "id": "0ce53bfb",
   "metadata": {},
   "outputs": [
    {
     "name": "stdout",
     "output_type": "stream",
     "text": [
      "Mean Squared Error: 4.5148296982366785e+33\n",
      "R-squared (R2) Score: -6.462421035958297e+20\n"
     ]
    }
   ],
   "source": [
    "#linear reg\n",
    "from sklearn.linear_model import LinearRegression\n",
    "from sklearn.metrics import mean_squared_error, r2_score\n",
    "# Create a linear regression model\n",
    "model = LinearRegression()\n",
    "# Fit the model to the training data\n",
    "model.fit(X_train, y_train)\n",
    "# Make predictions on the test data\n",
    "y_pred = model.predict(X_test)\n",
    "# Evaluate the model\n",
    "mse = mean_squared_error(y_test, y_pred)\n",
    "r2 = r2_score(y_test, y_pred)\n",
    "print(f'Mean Squared Error: {mse}')\n",
    "print(f'R-squared (R2) Score: {r2}')"
   ]
  },
  {
   "cell_type": "code",
   "execution_count": 74,
   "id": "6321a2b4",
   "metadata": {},
   "outputs": [
    {
     "name": "stdout",
     "output_type": "stream",
     "text": [
      "Mean Squared Error: 1903160521264.5513\n",
      "R-squared (R2) Score: 0.727586079443286\n"
     ]
    }
   ],
   "source": [
    "#random forest\n",
    "from sklearn.ensemble import RandomForestRegressor\n",
    "from sklearn.metrics import mean_squared_error, r2_score\n",
    "# Create a random forest regressor model\n",
    "model = RandomForestRegressor(n_estimators=100, random_state=42)\n",
    "# Fit the model to the training data\n",
    "model.fit(X_train, y_train)\n",
    "# Make predictions on the test data\n",
    "y_pred = model.predict(X_test)\n",
    "# Evaluate the model\n",
    "mse = mean_squared_error(y_test, y_pred)\n",
    "r2 = r2_score(y_test, y_pred)\n",
    "print(f'Mean Squared Error: {mse}')\n",
    "print(f'R-squared (R2) Score: {r2}')\n"
   ]
  },
  {
   "cell_type": "markdown",
   "id": "4e274471",
   "metadata": {},
   "source": [
    "# pickle file"
   ]
  },
  {
   "cell_type": "code",
   "execution_count": 76,
   "id": "e8b0e875",
   "metadata": {},
   "outputs": [],
   "source": [
    "import pickle\n",
    "with open(\"preprocessing.pkl\", \"wb\") as file:\n",
    "    pickle.dump(new_df_final, file)\n",
    "with open(\"model.pkl\", \"wb\") as file:\n",
    "    pickle.dump(model, file)\n"
   ]
  },
  {
   "cell_type": "code",
   "execution_count": 77,
   "id": "a7daa1f4",
   "metadata": {},
   "outputs": [],
   "source": [
    "with open(\"encoder.pkl\", \"wb\") as file:\n",
    "    pickle.dump(encoder, file)\n",
    "with open(\"encoded_cols.pkl\", \"wb\") as file:\n",
    "    pickle.dump(encoded_cols, file)"
   ]
  },
  {
   "cell_type": "markdown",
   "id": "b5fd6b4a",
   "metadata": {},
   "source": [
    "#prediction "
   ]
  },
  {
   "cell_type": "code",
   "execution_count": 79,
   "id": "342024a9",
   "metadata": {},
   "outputs": [],
   "source": [
    "import pandas as pd\n",
    "input_data = pd.DataFrame({\n",
    " 'Year': [2020],\n",
    " 'Kilometer': [5000],\n",
    " 'Engine': ['1198 cc'],\n",
    " 'Length': [4500],\n",
    " 'Width': [1800],\n",
    " 'Seating Capacity': [5],\n",
    " 'Fuel Tank Capacity': [50],\n",
    " 'Fuel Type': ['Petrol'], \n",
    " 'Transmission': ['Automatic'], \n",
    " 'Location': ['Pune'], \n",
    "})\n",
    "input_encoded = encoder.transform(input_data[categorical_cols])\n",
    "input_encoded_df = pd.DataFrame(input_encoded, columns=encoded_cols)\n",
    "# Combine the numerical and encoded categorical features\n",
    "input_features = pd.concat([input_data[numeric_cols], input_encoded_df], axis=1)"
   ]
  },
  {
   "cell_type": "code",
   "execution_count": 80,
   "id": "d5d1c7d5",
   "metadata": {},
   "outputs": [
    {
     "name": "stdout",
     "output_type": "stream",
     "text": [
      "[1458570.01]\n"
     ]
    }
   ],
   "source": [
    "prediction = model.predict(input_features)\n",
    "print(prediction)"
   ]
  },
  {
   "cell_type": "markdown",
   "id": "a02c346e",
   "metadata": {},
   "source": [
    "# deployment"
   ]
  },
  {
   "cell_type": "code",
   "execution_count": 81,
   "id": "809d0360",
   "metadata": {},
   "outputs": [],
   "source": [
    "import warnings\n",
    "warnings.filterwarnings(\"ignore\")\n",
    "import numpy as np"
   ]
  },
  {
   "cell_type": "code",
   "execution_count": 82,
   "id": "94d4a6e2",
   "metadata": {},
   "outputs": [],
   "source": [
    "import pickle\n",
    "with open('encoder.pkl', 'rb') as file:\n",
    "    encoder = pickle.load(file)\n",
    "with open('model.pkl', 'rb') as file2:\n",
    "    model = pickle.load(file2)\n",
    "with open('encoded_cols.pkl', 'rb') as file3:\n",
    "    encoded_cols = pickle.load(file3)\n"
   ]
  },
  {
   "cell_type": "code",
   "execution_count": 83,
   "id": "06f060f6",
   "metadata": {},
   "outputs": [],
   "source": [
    "import pandas as pd\n",
    "# Create a DataFrame with the input data \n",
    "input_data = pd.DataFrame({\n",
    " 'Year': [2020],\n",
    " 'Kilometer': [5000],\n",
    " 'Engine': ['1198 cc'],\n",
    " 'Length': [4500],\n",
    " 'Width': [1800],\n",
    " 'Seating Capacity': [5],\n",
    " 'Fuel Tank Capacity': [50],\n",
    " 'Fuel Type': ['Petrol'], \n",
    " 'Transmission': ['Automatic'], \n",
    " 'Location': ['Pune'], \n",
    "})\n",
    "numeric_cols = input_data.select_dtypes( include = np.number ).columns.tolist()\n",
    "categorical_cols = input_data.select_dtypes('object').columns.tolist()\n"
   ]
  },
  {
   "cell_type": "code",
   "execution_count": 84,
   "id": "ac708573",
   "metadata": {},
   "outputs": [],
   "source": [
    "input_encoded = encoder.transform(input_data[categorical_cols])\n",
    "input_encoded_df = pd.DataFrame(input_encoded, columns=encoded_cols)\n",
    "input_features = pd.concat([input_data[numeric_cols], input_encoded_df], axis=1)"
   ]
  },
  {
   "cell_type": "code",
   "execution_count": 85,
   "id": "ada4a88c",
   "metadata": {},
   "outputs": [
    {
     "name": "stdout",
     "output_type": "stream",
     "text": [
      "[1437070.01]\n"
     ]
    }
   ],
   "source": [
    "prediction = model.predict(input_features)\n",
    "print(prediction)"
   ]
  },
  {
   "cell_type": "markdown",
   "id": "fd8ed830",
   "metadata": {},
   "source": [
    "# pipeline"
   ]
  },
  {
   "cell_type": "code",
   "execution_count": 86,
   "id": "7ece760a",
   "metadata": {},
   "outputs": [],
   "source": [
    "import warnings\n",
    "warnings.filterwarnings(\"ignore\")\n",
    "import pandas as pd\n",
    "import numpy as np\n",
    "import matplotlib\n",
    "import matplotlib.pyplot as plt\n",
    "import seaborn as sns\n",
    "from sklearn.preprocessing import LabelEncoder, StandardScaler\n",
    "from sklearn.impute import SimpleImputer\n",
    "from sklearn.model_selection import train_test_split\n",
    "from sklearn.linear_model import LinearRegression\n",
    "from sklearn.preprocessing import OneHotEncoder\n",
    "from sklearn.metrics import mean_squared_error\n",
    "from sklearn.metrics import accuracy_score\n",
    "from sklearn.compose import ColumnTransformer\n",
    "from sklearn.preprocessing import MinMaxScaler\n",
    "from sklearn.ensemble import RandomForestRegressor"
   ]
  },
  {
   "cell_type": "code",
   "execution_count": 87,
   "id": "c8470116",
   "metadata": {},
   "outputs": [],
   "source": [
    "matplotlib.style.use('seaborn-white')\n",
    "matplotlib.rcParams['font.size'] = 18\n",
    "matplotlib.rcParams['figure.figsize'] = (12,7)\n",
    "matplotlib.rcParams['figure.facecolor'] = '#00000000'\n",
    "matplotlib.rcParams[\"font.weight\"] = \"bold\"\n",
    "matplotlib.rc('axes', labelsize=14, titlesize=14)\n",
    "matplotlib.rc('legend', fontsize=14)\n",
    "matplotlib.rc('xtick', labelsize=10)\n",
    "matplotlib.rc('ytick', labelsize=10)\n",
    "colors = ['#40128B','#DD58D6']\n"
   ]
  },
  {
   "cell_type": "code",
   "execution_count": 88,
   "id": "9fc16830",
   "metadata": {},
   "outputs": [],
   "source": [
    "from sklearn import set_config\n",
    "set_config(display='diagram')"
   ]
  },
  {
   "cell_type": "code",
   "execution_count": 89,
   "id": "3c22c8d1",
   "metadata": {},
   "outputs": [],
   "source": [
    "df=pd.read_csv(\"C:\\\\Users\\\\rawat\\\\Downloads\\\\car details v4.csv\")"
   ]
  },
  {
   "cell_type": "code",
   "execution_count": 90,
   "id": "0081b980",
   "metadata": {},
   "outputs": [
    {
     "name": "stdout",
     "output_type": "stream",
     "text": [
      "(1647, 206)\n",
      "(412, 206)\n",
      "(1647,)\n",
      "(412,)\n"
     ]
    }
   ],
   "source": [
    "# Split the data into training and testing sets\n",
    "X_train, X_test, y_train, y_test = train_test_split(new_df, df[target_col], test_size=0.2, random_state=42)\n",
    "print(X_train.shape)\n",
    "print(X_test.shape)\n",
    "print(y_train.shape)\n",
    "print(y_test.shape)"
   ]
  },
  {
   "cell_type": "code",
   "execution_count": 91,
   "id": "68465ad7",
   "metadata": {},
   "outputs": [],
   "source": [
    "#Imputation transformer\n",
    "trf1 = ColumnTransformer([\n",
    " ('impute_Engine',SimpleImputer(strategy = 'most_frequent'),[5]),\n",
    " ('impute_Length',SimpleImputer(strategy = 'mean'),[6]),\n",
    " ('impute_Width',SimpleImputer(strategy = 'mean'),[7]),\n",
    " ('impute_Seating_capacity',SimpleImputer(strategy = 'most_frequent'),[8]),\n",
    " ('impute_Fuel_tank_capacity',SimpleImputer(strategy='most_frequent'),[9])\n",
    "],remainder='passthrough')\n"
   ]
  },
  {
   "cell_type": "code",
   "execution_count": 92,
   "id": "1cf54f57",
   "metadata": {},
   "outputs": [],
   "source": [
    "#One hot encoding\n",
    "trf2 = ColumnTransformer([\n",
    " ('ohe_categorical',OneHotEncoder(sparse=False,handle_unknown='ignore'),[2,3,4,5])\n",
    "],remainder='passthrough')"
   ]
  },
  {
   "cell_type": "code",
   "execution_count": 93,
   "id": "c2e64165",
   "metadata": {},
   "outputs": [],
   "source": [
    "# Scaling\n",
    "trf3 = ColumnTransformer([\n",
    " ('scale',MinMaxScaler(),[0,1,6,7,8,9])\n",
    "])"
   ]
  },
  {
   "cell_type": "code",
   "execution_count": 94,
   "id": "a08c95da",
   "metadata": {},
   "outputs": [],
   "source": [
    "trf4 = RandomForestRegressor(n_estimators=100, random_state=42)"
   ]
  },
  {
   "cell_type": "code",
   "execution_count": 95,
   "id": "175b73c0",
   "metadata": {},
   "outputs": [],
   "source": [
    "from sklearn.pipeline import Pipeline,make_pipeline\n",
    "pipe = Pipeline([\n",
    " ('trf1',trf1),\n",
    " ('trf2',trf2),\n",
    " ('trf3',trf3),\n",
    " ('trf4',trf4),\n",
    "])"
   ]
  },
  {
   "cell_type": "code",
   "execution_count": 96,
   "id": "ce73339f",
   "metadata": {},
   "outputs": [
    {
     "data": {
      "text/html": [
       "<style>#sk-e765ec49-7874-4547-b1b0-5f4ba747a811 {color: black;background-color: white;}#sk-e765ec49-7874-4547-b1b0-5f4ba747a811 pre{padding: 0;}#sk-e765ec49-7874-4547-b1b0-5f4ba747a811 div.sk-toggleable {background-color: white;}#sk-e765ec49-7874-4547-b1b0-5f4ba747a811 label.sk-toggleable__label {cursor: pointer;display: block;width: 100%;margin-bottom: 0;padding: 0.2em 0.3em;box-sizing: border-box;text-align: center;}#sk-e765ec49-7874-4547-b1b0-5f4ba747a811 div.sk-toggleable__content {max-height: 0;max-width: 0;overflow: hidden;text-align: left;background-color: #f0f8ff;}#sk-e765ec49-7874-4547-b1b0-5f4ba747a811 div.sk-toggleable__content pre {margin: 0.2em;color: black;border-radius: 0.25em;background-color: #f0f8ff;}#sk-e765ec49-7874-4547-b1b0-5f4ba747a811 input.sk-toggleable__control:checked~div.sk-toggleable__content {max-height: 200px;max-width: 100%;overflow: auto;}#sk-e765ec49-7874-4547-b1b0-5f4ba747a811 div.sk-estimator input.sk-toggleable__control:checked~label.sk-toggleable__label {background-color: #d4ebff;}#sk-e765ec49-7874-4547-b1b0-5f4ba747a811 div.sk-label input.sk-toggleable__control:checked~label.sk-toggleable__label {background-color: #d4ebff;}#sk-e765ec49-7874-4547-b1b0-5f4ba747a811 input.sk-hidden--visually {border: 0;clip: rect(1px 1px 1px 1px);clip: rect(1px, 1px, 1px, 1px);height: 1px;margin: -1px;overflow: hidden;padding: 0;position: absolute;width: 1px;}#sk-e765ec49-7874-4547-b1b0-5f4ba747a811 div.sk-estimator {font-family: monospace;background-color: #f0f8ff;margin: 0.25em 0.25em;border: 1px dotted black;border-radius: 0.25em;box-sizing: border-box;}#sk-e765ec49-7874-4547-b1b0-5f4ba747a811 div.sk-estimator:hover {background-color: #d4ebff;}#sk-e765ec49-7874-4547-b1b0-5f4ba747a811 div.sk-parallel-item::after {content: \"\";width: 100%;border-bottom: 1px solid gray;flex-grow: 1;}#sk-e765ec49-7874-4547-b1b0-5f4ba747a811 div.sk-label:hover label.sk-toggleable__label {background-color: #d4ebff;}#sk-e765ec49-7874-4547-b1b0-5f4ba747a811 div.sk-serial::before {content: \"\";position: absolute;border-left: 1px solid gray;box-sizing: border-box;top: 2em;bottom: 0;left: 50%;}#sk-e765ec49-7874-4547-b1b0-5f4ba747a811 div.sk-serial {display: flex;flex-direction: column;align-items: center;background-color: white;}#sk-e765ec49-7874-4547-b1b0-5f4ba747a811 div.sk-item {z-index: 1;}#sk-e765ec49-7874-4547-b1b0-5f4ba747a811 div.sk-parallel {display: flex;align-items: stretch;justify-content: center;background-color: white;}#sk-e765ec49-7874-4547-b1b0-5f4ba747a811 div.sk-parallel-item {display: flex;flex-direction: column;position: relative;background-color: white;}#sk-e765ec49-7874-4547-b1b0-5f4ba747a811 div.sk-parallel-item:first-child::after {align-self: flex-end;width: 50%;}#sk-e765ec49-7874-4547-b1b0-5f4ba747a811 div.sk-parallel-item:last-child::after {align-self: flex-start;width: 50%;}#sk-e765ec49-7874-4547-b1b0-5f4ba747a811 div.sk-parallel-item:only-child::after {width: 0;}#sk-e765ec49-7874-4547-b1b0-5f4ba747a811 div.sk-dashed-wrapped {border: 1px dashed gray;margin: 0.2em;box-sizing: border-box;padding-bottom: 0.1em;background-color: white;position: relative;}#sk-e765ec49-7874-4547-b1b0-5f4ba747a811 div.sk-label label {font-family: monospace;font-weight: bold;background-color: white;display: inline-block;line-height: 1.2em;}#sk-e765ec49-7874-4547-b1b0-5f4ba747a811 div.sk-label-container {position: relative;z-index: 2;text-align: center;}#sk-e765ec49-7874-4547-b1b0-5f4ba747a811 div.sk-container {display: inline-block;position: relative;}</style><div id=\"sk-e765ec49-7874-4547-b1b0-5f4ba747a811\" class\"sk-top-container\"><div class=\"sk-container\"><div class=\"sk-item sk-dashed-wrapped\"><div class=\"sk-label-container\"><div class=\"sk-label sk-toggleable\"><input class=\"sk-toggleable__control sk-hidden--visually\" id=\"d9bddc1a-6373-4089-b2e3-e52bc6b482ca\" type=\"checkbox\" ><label class=\"sk-toggleable__label\" for=\"d9bddc1a-6373-4089-b2e3-e52bc6b482ca\">Pipeline</label><div class=\"sk-toggleable__content\"><pre>Pipeline(steps=[('trf1',\n",
       "                 ColumnTransformer(remainder='passthrough',\n",
       "                                   transformers=[('impute_Engine',\n",
       "                                                  SimpleImputer(strategy='most_frequent'),\n",
       "                                                  [5]),\n",
       "                                                 ('impute_Length',\n",
       "                                                  SimpleImputer(), [6]),\n",
       "                                                 ('impute_Width',\n",
       "                                                  SimpleImputer(), [7]),\n",
       "                                                 ('impute_Seating_capacity',\n",
       "                                                  SimpleImputer(strategy='most_frequent'),\n",
       "                                                  [8]),\n",
       "                                                 ('impute_Fuel_tank_capacity',\n",
       "                                                  SimpleImputer(strategy='most_frequent'),\n",
       "                                                  [9])])),\n",
       "                ('trf2',\n",
       "                 ColumnTransformer(remainder='passthrough',\n",
       "                                   transformers=[('ohe_categorical',\n",
       "                                                  OneHotEncoder(handle_unknown='ignore',\n",
       "                                                                sparse=False),\n",
       "                                                  [2, 3, 4, 5])])),\n",
       "                ('trf3',\n",
       "                 ColumnTransformer(transformers=[('scale', MinMaxScaler(),\n",
       "                                                  [0, 1, 6, 7, 8, 9])])),\n",
       "                ('trf4', RandomForestRegressor(random_state=42))])</pre></div></div></div><div class=\"sk-serial\"><div class=\"sk-item sk-dashed-wrapped\"><div class=\"sk-label-container\"><div class=\"sk-label sk-toggleable\"><input class=\"sk-toggleable__control sk-hidden--visually\" id=\"a04ab285-89c7-44fc-8f16-23fe3f064a45\" type=\"checkbox\" ><label class=\"sk-toggleable__label\" for=\"a04ab285-89c7-44fc-8f16-23fe3f064a45\">trf1: ColumnTransformer</label><div class=\"sk-toggleable__content\"><pre>ColumnTransformer(remainder='passthrough',\n",
       "                  transformers=[('impute_Engine',\n",
       "                                 SimpleImputer(strategy='most_frequent'), [5]),\n",
       "                                ('impute_Length', SimpleImputer(), [6]),\n",
       "                                ('impute_Width', SimpleImputer(), [7]),\n",
       "                                ('impute_Seating_capacity',\n",
       "                                 SimpleImputer(strategy='most_frequent'), [8]),\n",
       "                                ('impute_Fuel_tank_capacity',\n",
       "                                 SimpleImputer(strategy='most_frequent'),\n",
       "                                 [9])])</pre></div></div></div><div class=\"sk-parallel\"><div class=\"sk-parallel-item\"><div class=\"sk-item\"><div class=\"sk-label-container\"><div class=\"sk-label sk-toggleable\"><input class=\"sk-toggleable__control sk-hidden--visually\" id=\"1f2ba4a8-4971-4f2e-89ab-b289b6a68638\" type=\"checkbox\" ><label class=\"sk-toggleable__label\" for=\"1f2ba4a8-4971-4f2e-89ab-b289b6a68638\">impute_Engine</label><div class=\"sk-toggleable__content\"><pre>[5]</pre></div></div></div><div class=\"sk-serial\"><div class=\"sk-item\"><div class=\"sk-estimator sk-toggleable\"><input class=\"sk-toggleable__control sk-hidden--visually\" id=\"770f493d-60b1-4e74-acac-74e9c71217ec\" type=\"checkbox\" ><label class=\"sk-toggleable__label\" for=\"770f493d-60b1-4e74-acac-74e9c71217ec\">SimpleImputer</label><div class=\"sk-toggleable__content\"><pre>SimpleImputer(strategy='most_frequent')</pre></div></div></div></div></div></div><div class=\"sk-parallel-item\"><div class=\"sk-item\"><div class=\"sk-label-container\"><div class=\"sk-label sk-toggleable\"><input class=\"sk-toggleable__control sk-hidden--visually\" id=\"ffac672b-964a-45ab-afbe-2667161844d0\" type=\"checkbox\" ><label class=\"sk-toggleable__label\" for=\"ffac672b-964a-45ab-afbe-2667161844d0\">impute_Length</label><div class=\"sk-toggleable__content\"><pre>[6]</pre></div></div></div><div class=\"sk-serial\"><div class=\"sk-item\"><div class=\"sk-estimator sk-toggleable\"><input class=\"sk-toggleable__control sk-hidden--visually\" id=\"2214118c-ea6e-44dd-a65b-ae9122e81507\" type=\"checkbox\" ><label class=\"sk-toggleable__label\" for=\"2214118c-ea6e-44dd-a65b-ae9122e81507\">SimpleImputer</label><div class=\"sk-toggleable__content\"><pre>SimpleImputer()</pre></div></div></div></div></div></div><div class=\"sk-parallel-item\"><div class=\"sk-item\"><div class=\"sk-label-container\"><div class=\"sk-label sk-toggleable\"><input class=\"sk-toggleable__control sk-hidden--visually\" id=\"3d976977-1a6c-43db-93d0-43b4c1b89aa7\" type=\"checkbox\" ><label class=\"sk-toggleable__label\" for=\"3d976977-1a6c-43db-93d0-43b4c1b89aa7\">impute_Width</label><div class=\"sk-toggleable__content\"><pre>[7]</pre></div></div></div><div class=\"sk-serial\"><div class=\"sk-item\"><div class=\"sk-estimator sk-toggleable\"><input class=\"sk-toggleable__control sk-hidden--visually\" id=\"d6eb298d-d7b2-4a69-94ef-2b18f1280579\" type=\"checkbox\" ><label class=\"sk-toggleable__label\" for=\"d6eb298d-d7b2-4a69-94ef-2b18f1280579\">SimpleImputer</label><div class=\"sk-toggleable__content\"><pre>SimpleImputer()</pre></div></div></div></div></div></div><div class=\"sk-parallel-item\"><div class=\"sk-item\"><div class=\"sk-label-container\"><div class=\"sk-label sk-toggleable\"><input class=\"sk-toggleable__control sk-hidden--visually\" id=\"fa9064a0-cb63-4bc3-8f0c-d896b755c547\" type=\"checkbox\" ><label class=\"sk-toggleable__label\" for=\"fa9064a0-cb63-4bc3-8f0c-d896b755c547\">impute_Seating_capacity</label><div class=\"sk-toggleable__content\"><pre>[8]</pre></div></div></div><div class=\"sk-serial\"><div class=\"sk-item\"><div class=\"sk-estimator sk-toggleable\"><input class=\"sk-toggleable__control sk-hidden--visually\" id=\"cffdf3de-f9d3-4081-bb59-9980eacdb62c\" type=\"checkbox\" ><label class=\"sk-toggleable__label\" for=\"cffdf3de-f9d3-4081-bb59-9980eacdb62c\">SimpleImputer</label><div class=\"sk-toggleable__content\"><pre>SimpleImputer(strategy='most_frequent')</pre></div></div></div></div></div></div><div class=\"sk-parallel-item\"><div class=\"sk-item\"><div class=\"sk-label-container\"><div class=\"sk-label sk-toggleable\"><input class=\"sk-toggleable__control sk-hidden--visually\" id=\"5a94e38c-440a-4b57-8c1e-9b12e8c43af0\" type=\"checkbox\" ><label class=\"sk-toggleable__label\" for=\"5a94e38c-440a-4b57-8c1e-9b12e8c43af0\">impute_Fuel_tank_capacity</label><div class=\"sk-toggleable__content\"><pre>[9]</pre></div></div></div><div class=\"sk-serial\"><div class=\"sk-item\"><div class=\"sk-estimator sk-toggleable\"><input class=\"sk-toggleable__control sk-hidden--visually\" id=\"75ed6c2d-5c59-4ead-8128-51182a5830fe\" type=\"checkbox\" ><label class=\"sk-toggleable__label\" for=\"75ed6c2d-5c59-4ead-8128-51182a5830fe\">SimpleImputer</label><div class=\"sk-toggleable__content\"><pre>SimpleImputer(strategy='most_frequent')</pre></div></div></div></div></div></div><div class=\"sk-parallel-item\"><div class=\"sk-item\"><div class=\"sk-label-container\"><div class=\"sk-label sk-toggleable\"><input class=\"sk-toggleable__control sk-hidden--visually\" id=\"5ced63e0-9180-447b-b3ae-f06c6730ce38\" type=\"checkbox\" ><label class=\"sk-toggleable__label\" for=\"5ced63e0-9180-447b-b3ae-f06c6730ce38\">remainder</label><div class=\"sk-toggleable__content\"><pre>['Year', 'Kilometer', 'Fuel Type', 'Transmission', 'Location', 'Fuel Type_CNG', 'Fuel Type_CNG + CNG', 'Fuel Type_Diesel', 'Fuel Type_Electric', 'Fuel Type_Hybrid', 'Fuel Type_LPG', 'Fuel Type_Petrol', 'Fuel Type_Petrol + CNG', 'Fuel Type_Petrol + LPG', 'Transmission_Automatic', 'Transmission_Manual', 'Location_Agra', 'Location_Ahmedabad', 'Location_Allahabad', 'Location_Ambala Cantt', 'Location_Amritsar', 'Location_Aurangabad', 'Location_Bangalore', 'Location_Bhopal', 'Location_Bhubaneswar', 'Location_Bulandshahar', 'Location_Chandigarh', 'Location_Chennai', 'Location_Coimbatore', 'Location_Dak. Kannada', 'Location_Dehradun', 'Location_Delhi', 'Location_Deoghar', 'Location_Dharwad', 'Location_Ernakulam', 'Location_Faizabad', 'Location_Faridabad', 'Location_Ghaziabad', 'Location_Goa', 'Location_Gorakhpur', 'Location_Gurgaon', 'Location_Guwahati', 'Location_Haldwani', 'Location_Hyderabad', 'Location_Indore', 'Location_Jaipur', 'Location_Jalandhar', 'Location_Jamshedpur', 'Location_Kanpur', 'Location_Karnal', 'Location_Kharar', 'Location_Kheda', 'Location_Kolkata', 'Location_Kollam', 'Location_Kota', 'Location_Lucknow', 'Location_Ludhiana', 'Location_Mangalore', 'Location_Meerut', 'Location_Mirzapur', 'Location_Mohali', 'Location_Mumbai', 'Location_Muzaffurpur', 'Location_Mysore', 'Location_Nagpur', 'Location_Nashik', 'Location_Navi Mumbai', 'Location_Noida', 'Location_Panchkula', 'Location_Panvel', 'Location_Patna', 'Location_Pimpri-Chinchwad', 'Location_Pune', 'Location_Purnea', 'Location_Raipur', 'Location_Ranchi', 'Location_Ranga Reddy', 'Location_Rohtak', 'Location_Roorkee', 'Location_Rudrapur', 'Location_Salem', 'Location_Samastipur', 'Location_Siliguri', 'Location_Surat', 'Location_Thane', 'Location_Udupi', 'Location_Unnao', 'Location_Vadodara', 'Location_Valsad', 'Location_Varanasi', 'Location_Warangal', 'Location_Yamunanagar', 'Location_Zirakpur', 'Engine_1047 cc', 'Engine_1061 cc', 'Engine_1086 cc', 'Engine_1120 cc', 'Engine_1186 cc', 'Engine_1196 cc', 'Engine_1197 cc', 'Engine_1198 cc', 'Engine_1199 cc', 'Engine_1248 cc', 'Engine_1298 cc', 'Engine_1332 cc', 'Engine_1336 cc', 'Engine_1353 cc', 'Engine_1364 cc', 'Engine_1368 cc', 'Engine_1373 cc', 'Engine_1395 cc', 'Engine_1396 cc', 'Engine_1399 cc', 'Engine_1451 cc', 'Engine_1461 cc', 'Engine_1462 cc', 'Engine_1493 cc', 'Engine_1495 cc', 'Engine_1496 cc', 'Engine_1497 cc', 'Engine_1498 cc', 'Engine_1499 cc', 'Engine_1582 cc', 'Engine_1586 cc', 'Engine_1591 cc', 'Engine_1595 cc', 'Engine_1598 cc', 'Engine_1794 cc', 'Engine_1796 cc', 'Engine_1797 cc', 'Engine_1798 cc', 'Engine_1799 cc', 'Engine_1948 cc', 'Engine_1950 cc', 'Engine_1956 cc', 'Engine_1968 cc', 'Engine_1969 cc', 'Engine_1984 cc', 'Engine_1988 cc', 'Engine_1991 cc', 'Engine_1995 cc', 'Engine_1996 cc', 'Engine_1997 cc', 'Engine_1998 cc', 'Engine_1999 cc', 'Engine_2143 cc', 'Engine_2148 cc', 'Engine_2157 cc', 'Engine_2179 cc', 'Engine_2184 cc', 'Engine_2198 cc', 'Engine_2199 cc', 'Engine_2354 cc', 'Engine_2393 cc', 'Engine_2400 cc', 'Engine_2477 cc', 'Engine_2487 cc', 'Engine_2489 cc', 'Engine_2494 cc', 'Engine_2497 cc', 'Engine_2498 cc', 'Engine_2523 cc', 'Engine_2609 cc', 'Engine_2694 cc', 'Engine_2696 cc', 'Engine_2755 cc', 'Engine_2835 cc', 'Engine_2925 cc', 'Engine_2953 cc', 'Engine_2967 cc', 'Engine_2979 cc', 'Engine_2982 cc', 'Engine_2987 cc', 'Engine_2993 cc', 'Engine_2995 cc', 'Engine_2996 cc', 'Engine_2997 cc', 'Engine_2998 cc', 'Engine_2999 cc', 'Engine_3198 cc', 'Engine_3436 cc', 'Engine_3496 cc', 'Engine_3498 cc', 'Engine_3902 cc', 'Engine_3982 cc', 'Engine_4163 cc', 'Engine_4663 cc', 'Engine_4806 cc', 'Engine_4951 cc', 'Engine_5204 cc', 'Engine_5461 cc', 'Engine_624 cc', 'Engine_6592 cc', 'Engine_793 cc', 'Engine_796 cc', 'Engine_799 cc', 'Engine_814 cc', 'Engine_936 cc', 'Engine_995 cc', 'Engine_998 cc', 'Engine_999 cc']</pre></div></div></div><div class=\"sk-serial\"><div class=\"sk-item\"><div class=\"sk-estimator sk-toggleable\"><input class=\"sk-toggleable__control sk-hidden--visually\" id=\"5461613d-4218-46b6-9bd2-e20e5d4665c7\" type=\"checkbox\" ><label class=\"sk-toggleable__label\" for=\"5461613d-4218-46b6-9bd2-e20e5d4665c7\">passthrough</label><div class=\"sk-toggleable__content\"><pre>passthrough</pre></div></div></div></div></div></div></div></div><div class=\"sk-item sk-dashed-wrapped\"><div class=\"sk-label-container\"><div class=\"sk-label sk-toggleable\"><input class=\"sk-toggleable__control sk-hidden--visually\" id=\"bf177d9d-6750-473f-89ca-57f0bfff4b71\" type=\"checkbox\" ><label class=\"sk-toggleable__label\" for=\"bf177d9d-6750-473f-89ca-57f0bfff4b71\">trf2: ColumnTransformer</label><div class=\"sk-toggleable__content\"><pre>ColumnTransformer(remainder='passthrough',\n",
       "                  transformers=[('ohe_categorical',\n",
       "                                 OneHotEncoder(handle_unknown='ignore',\n",
       "                                               sparse=False),\n",
       "                                 [2, 3, 4, 5])])</pre></div></div></div><div class=\"sk-parallel\"><div class=\"sk-parallel-item\"><div class=\"sk-item\"><div class=\"sk-label-container\"><div class=\"sk-label sk-toggleable\"><input class=\"sk-toggleable__control sk-hidden--visually\" id=\"ef1acfcf-be9c-4dbb-9a9d-31ace838061c\" type=\"checkbox\" ><label class=\"sk-toggleable__label\" for=\"ef1acfcf-be9c-4dbb-9a9d-31ace838061c\">ohe_categorical</label><div class=\"sk-toggleable__content\"><pre>[2, 3, 4, 5]</pre></div></div></div><div class=\"sk-serial\"><div class=\"sk-item\"><div class=\"sk-estimator sk-toggleable\"><input class=\"sk-toggleable__control sk-hidden--visually\" id=\"b62ca2fd-880d-4108-b7da-27ddee0b4af5\" type=\"checkbox\" ><label class=\"sk-toggleable__label\" for=\"b62ca2fd-880d-4108-b7da-27ddee0b4af5\">OneHotEncoder</label><div class=\"sk-toggleable__content\"><pre>OneHotEncoder(handle_unknown='ignore', sparse=False)</pre></div></div></div></div></div></div><div class=\"sk-parallel-item\"><div class=\"sk-item\"><div class=\"sk-label-container\"><div class=\"sk-label sk-toggleable\"><input class=\"sk-toggleable__control sk-hidden--visually\" id=\"395831e6-713c-4fe6-ae25-167f6b62a4f0\" type=\"checkbox\" ><label class=\"sk-toggleable__label\" for=\"395831e6-713c-4fe6-ae25-167f6b62a4f0\">remainder</label><div class=\"sk-toggleable__content\"><pre>[0, 1, 6, 7, 8, 9, 10, 11, 12, 13, 14, 15, 16, 17, 18, 19, 20, 21, 22, 23, 24, 25, 26, 27, 28, 29, 30, 31, 32, 33, 34, 35, 36, 37, 38, 39, 40, 41, 42, 43, 44, 45, 46, 47, 48, 49, 50, 51, 52, 53, 54, 55, 56, 57, 58, 59, 60, 61, 62, 63, 64, 65, 66, 67, 68, 69, 70, 71, 72, 73, 74, 75, 76, 77, 78, 79, 80, 81, 82, 83, 84, 85, 86, 87, 88, 89, 90, 91, 92, 93, 94, 95, 96, 97, 98, 99, 100, 101, 102, 103, 104, 105, 106, 107, 108, 109, 110, 111, 112, 113, 114, 115, 116, 117, 118, 119, 120, 121, 122, 123, 124, 125, 126, 127, 128, 129, 130, 131, 132, 133, 134, 135, 136, 137, 138, 139, 140, 141, 142, 143, 144, 145, 146, 147, 148, 149, 150, 151, 152, 153, 154, 155, 156, 157, 158, 159, 160, 161, 162, 163, 164, 165, 166, 167, 168, 169, 170, 171, 172, 173, 174, 175, 176, 177, 178, 179, 180, 181, 182, 183, 184, 185, 186, 187, 188, 189, 190, 191, 192, 193, 194, 195, 196, 197, 198, 199, 200, 201, 202, 203, 204, 205]</pre></div></div></div><div class=\"sk-serial\"><div class=\"sk-item\"><div class=\"sk-estimator sk-toggleable\"><input class=\"sk-toggleable__control sk-hidden--visually\" id=\"798b9965-05ab-4ff9-acf5-6017c1f46d6b\" type=\"checkbox\" ><label class=\"sk-toggleable__label\" for=\"798b9965-05ab-4ff9-acf5-6017c1f46d6b\">passthrough</label><div class=\"sk-toggleable__content\"><pre>passthrough</pre></div></div></div></div></div></div></div></div><div class=\"sk-item sk-dashed-wrapped\"><div class=\"sk-label-container\"><div class=\"sk-label sk-toggleable\"><input class=\"sk-toggleable__control sk-hidden--visually\" id=\"3d5f5688-4feb-4d1c-9e36-441952621498\" type=\"checkbox\" ><label class=\"sk-toggleable__label\" for=\"3d5f5688-4feb-4d1c-9e36-441952621498\">trf3: ColumnTransformer</label><div class=\"sk-toggleable__content\"><pre>ColumnTransformer(transformers=[('scale', MinMaxScaler(), [0, 1, 6, 7, 8, 9])])</pre></div></div></div><div class=\"sk-parallel\"><div class=\"sk-parallel-item\"><div class=\"sk-item\"><div class=\"sk-label-container\"><div class=\"sk-label sk-toggleable\"><input class=\"sk-toggleable__control sk-hidden--visually\" id=\"84822b31-3271-4788-926c-6595d1789f13\" type=\"checkbox\" ><label class=\"sk-toggleable__label\" for=\"84822b31-3271-4788-926c-6595d1789f13\">scale</label><div class=\"sk-toggleable__content\"><pre>[0, 1, 6, 7, 8, 9]</pre></div></div></div><div class=\"sk-serial\"><div class=\"sk-item\"><div class=\"sk-estimator sk-toggleable\"><input class=\"sk-toggleable__control sk-hidden--visually\" id=\"d968c19e-d663-4480-bf0d-c7ee78c1b8a2\" type=\"checkbox\" ><label class=\"sk-toggleable__label\" for=\"d968c19e-d663-4480-bf0d-c7ee78c1b8a2\">MinMaxScaler</label><div class=\"sk-toggleable__content\"><pre>MinMaxScaler()</pre></div></div></div></div></div></div></div></div><div class=\"sk-item\"><div class=\"sk-estimator sk-toggleable\"><input class=\"sk-toggleable__control sk-hidden--visually\" id=\"80ce14ed-f0b3-49fd-9b89-3f822e945ddf\" type=\"checkbox\" ><label class=\"sk-toggleable__label\" for=\"80ce14ed-f0b3-49fd-9b89-3f822e945ddf\">RandomForestRegressor</label><div class=\"sk-toggleable__content\"><pre>RandomForestRegressor(random_state=42)</pre></div></div></div></div></div></div></div>"
      ],
      "text/plain": [
       "Pipeline(steps=[('trf1',\n",
       "                 ColumnTransformer(remainder='passthrough',\n",
       "                                   transformers=[('impute_Engine',\n",
       "                                                  SimpleImputer(strategy='most_frequent'),\n",
       "                                                  [5]),\n",
       "                                                 ('impute_Length',\n",
       "                                                  SimpleImputer(), [6]),\n",
       "                                                 ('impute_Width',\n",
       "                                                  SimpleImputer(), [7]),\n",
       "                                                 ('impute_Seating_capacity',\n",
       "                                                  SimpleImputer(strategy='most_frequent'),\n",
       "                                                  [8]),\n",
       "                                                 ('impute_Fuel_tank_capacity',\n",
       "                                                  SimpleImputer(strategy='most_frequent'),\n",
       "                                                  [9])])),\n",
       "                ('trf2',\n",
       "                 ColumnTransformer(remainder='passthrough',\n",
       "                                   transformers=[('ohe_categorical',\n",
       "                                                  OneHotEncoder(handle_unknown='ignore',\n",
       "                                                                sparse=False),\n",
       "                                                  [2, 3, 4, 5])])),\n",
       "                ('trf3',\n",
       "                 ColumnTransformer(transformers=[('scale', MinMaxScaler(),\n",
       "                                                  [0, 1, 6, 7, 8, 9])])),\n",
       "                ('trf4', RandomForestRegressor(random_state=42))])"
      ]
     },
     "execution_count": 96,
     "metadata": {},
     "output_type": "execute_result"
    }
   ],
   "source": [
    "pipe.fit(X_train,y_train)"
   ]
  },
  {
   "cell_type": "code",
   "execution_count": 97,
   "id": "36c7bf95",
   "metadata": {},
   "outputs": [
    {
     "data": {
      "text/plain": [
       "{'trf1': ColumnTransformer(remainder='passthrough',\n",
       "                   transformers=[('impute_Engine',\n",
       "                                  SimpleImputer(strategy='most_frequent'), [5]),\n",
       "                                 ('impute_Length', SimpleImputer(), [6]),\n",
       "                                 ('impute_Width', SimpleImputer(), [7]),\n",
       "                                 ('impute_Seating_capacity',\n",
       "                                  SimpleImputer(strategy='most_frequent'), [8]),\n",
       "                                 ('impute_Fuel_tank_capacity',\n",
       "                                  SimpleImputer(strategy='most_frequent'),\n",
       "                                  [9])]),\n",
       " 'trf2': ColumnTransformer(remainder='passthrough',\n",
       "                   transformers=[('ohe_categorical',\n",
       "                                  OneHotEncoder(handle_unknown='ignore',\n",
       "                                                sparse=False),\n",
       "                                  [2, 3, 4, 5])]),\n",
       " 'trf3': ColumnTransformer(transformers=[('scale', MinMaxScaler(), [0, 1, 6, 7, 8, 9])]),\n",
       " 'trf4': RandomForestRegressor(random_state=42)}"
      ]
     },
     "execution_count": 97,
     "metadata": {},
     "output_type": "execute_result"
    }
   ],
   "source": [
    "pipe.named_steps"
   ]
  },
  {
   "cell_type": "code",
   "execution_count": 98,
   "id": "c85a6063",
   "metadata": {},
   "outputs": [],
   "source": [
    "y_pred = pipe.predict(X_test)"
   ]
  },
  {
   "cell_type": "code",
   "execution_count": 99,
   "id": "d8f938ac",
   "metadata": {},
   "outputs": [
    {
     "name": "stdout",
     "output_type": "stream",
     "text": [
      "Mean Squared Error: 6885538212929.119\n",
      "R-squared (R2) Score: 0.014420255795987602\n"
     ]
    }
   ],
   "source": [
    "#Evaluate the model\n",
    "from sklearn.metrics import mean_squared_error, r2_score\n",
    "mse = mean_squared_error(y_test, y_pred)\n",
    "r2 = r2_score(y_test, y_pred)\n",
    "print(f'Mean Squared Error: {mse}')\n",
    "print(f'R-squared (R2) Score: {r2}')"
   ]
  },
  {
   "cell_type": "code",
   "execution_count": null,
   "id": "baec578c",
   "metadata": {},
   "outputs": [],
   "source": []
  }
 ],
 "metadata": {
  "kernelspec": {
   "display_name": "Python 3 (ipykernel)",
   "language": "python",
   "name": "python3"
  },
  "language_info": {
   "codemirror_mode": {
    "name": "ipython",
    "version": 3
   },
   "file_extension": ".py",
   "mimetype": "text/x-python",
   "name": "python",
   "nbconvert_exporter": "python",
   "pygments_lexer": "ipython3",
   "version": "3.9.7"
  }
 },
 "nbformat": 4,
 "nbformat_minor": 5
}
