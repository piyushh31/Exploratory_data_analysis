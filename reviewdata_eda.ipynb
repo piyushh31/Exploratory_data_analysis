{
  "nbformat": 4,
  "nbformat_minor": 0,
  "metadata": {
    "colab": {
      "provenance": []
    },
    "kernelspec": {
      "name": "python3",
      "display_name": "Python 3"
    },
    "language_info": {
      "name": "python"
    }
  },
  "cells": [
    {
      "cell_type": "markdown",
      "source": [
        "**WE WILL BEGIN TO DERIVE INSIGHTS AFTER CLEANING DATA, PREPROCESSING:**"
      ],
      "metadata": {
        "id": "5rr54GPOUU8K"
      }
    },
    {
      "cell_type": "code",
      "execution_count": null,
      "metadata": {
        "id": "RkKVLXYKE88f"
      },
      "outputs": [],
      "source": [
        "import pandas as pd"
      ]
    },
    {
      "cell_type": "code",
      "source": [
        "df=pd.read_excel(\"//content//Data Analyst - Test Data.xlsx\")"
      ],
      "metadata": {
        "id": "10H0bsAYGU2G"
      },
      "execution_count": null,
      "outputs": []
    },
    {
      "cell_type": "code",
      "source": [
        "df.head(3)"
      ],
      "metadata": {
        "colab": {
          "base_uri": "https://localhost:8080/",
          "height": 143
        },
        "id": "DhGQ4ydIGaC4",
        "outputId": "00ac25fe-0a69-48c7-8c34-210e9247feb3"
      },
      "execution_count": null,
      "outputs": [
        {
          "output_type": "execute_result",
          "data": {
            "text/plain": [
              "                                              Review       date     Location\n",
              "0  I was very impressed with the resort.\\n Great ... 2019-08-20    Sebastian\n",
              "1  The rooms were nice the outside needs work als... 2019-08-20  Los Angeles\n",
              "2  Great location! I have stayed at this hotel on... 2019-08-20      Georgia"
            ],
            "text/html": [
              "\n",
              "  <div id=\"df-98177b43-3fb3-4af9-8232-25016824016b\" class=\"colab-df-container\">\n",
              "    <div>\n",
              "<style scoped>\n",
              "    .dataframe tbody tr th:only-of-type {\n",
              "        vertical-align: middle;\n",
              "    }\n",
              "\n",
              "    .dataframe tbody tr th {\n",
              "        vertical-align: top;\n",
              "    }\n",
              "\n",
              "    .dataframe thead th {\n",
              "        text-align: right;\n",
              "    }\n",
              "</style>\n",
              "<table border=\"1\" class=\"dataframe\">\n",
              "  <thead>\n",
              "    <tr style=\"text-align: right;\">\n",
              "      <th></th>\n",
              "      <th>Review</th>\n",
              "      <th>date</th>\n",
              "      <th>Location</th>\n",
              "    </tr>\n",
              "  </thead>\n",
              "  <tbody>\n",
              "    <tr>\n",
              "      <th>0</th>\n",
              "      <td>I was very impressed with the resort.\\n Great ...</td>\n",
              "      <td>2019-08-20</td>\n",
              "      <td>Sebastian</td>\n",
              "    </tr>\n",
              "    <tr>\n",
              "      <th>1</th>\n",
              "      <td>The rooms were nice the outside needs work als...</td>\n",
              "      <td>2019-08-20</td>\n",
              "      <td>Los Angeles</td>\n",
              "    </tr>\n",
              "    <tr>\n",
              "      <th>2</th>\n",
              "      <td>Great location! I have stayed at this hotel on...</td>\n",
              "      <td>2019-08-20</td>\n",
              "      <td>Georgia</td>\n",
              "    </tr>\n",
              "  </tbody>\n",
              "</table>\n",
              "</div>\n",
              "    <div class=\"colab-df-buttons\">\n",
              "\n",
              "  <div class=\"colab-df-container\">\n",
              "    <button class=\"colab-df-convert\" onclick=\"convertToInteractive('df-98177b43-3fb3-4af9-8232-25016824016b')\"\n",
              "            title=\"Convert this dataframe to an interactive table.\"\n",
              "            style=\"display:none;\">\n",
              "\n",
              "  <svg xmlns=\"http://www.w3.org/2000/svg\" height=\"24px\" viewBox=\"0 -960 960 960\">\n",
              "    <path d=\"M120-120v-720h720v720H120Zm60-500h600v-160H180v160Zm220 220h160v-160H400v160Zm0 220h160v-160H400v160ZM180-400h160v-160H180v160Zm440 0h160v-160H620v160ZM180-180h160v-160H180v160Zm440 0h160v-160H620v160Z\"/>\n",
              "  </svg>\n",
              "    </button>\n",
              "\n",
              "  <style>\n",
              "    .colab-df-container {\n",
              "      display:flex;\n",
              "      gap: 12px;\n",
              "    }\n",
              "\n",
              "    .colab-df-convert {\n",
              "      background-color: #E8F0FE;\n",
              "      border: none;\n",
              "      border-radius: 50%;\n",
              "      cursor: pointer;\n",
              "      display: none;\n",
              "      fill: #1967D2;\n",
              "      height: 32px;\n",
              "      padding: 0 0 0 0;\n",
              "      width: 32px;\n",
              "    }\n",
              "\n",
              "    .colab-df-convert:hover {\n",
              "      background-color: #E2EBFA;\n",
              "      box-shadow: 0px 1px 2px rgba(60, 64, 67, 0.3), 0px 1px 3px 1px rgba(60, 64, 67, 0.15);\n",
              "      fill: #174EA6;\n",
              "    }\n",
              "\n",
              "    .colab-df-buttons div {\n",
              "      margin-bottom: 4px;\n",
              "    }\n",
              "\n",
              "    [theme=dark] .colab-df-convert {\n",
              "      background-color: #3B4455;\n",
              "      fill: #D2E3FC;\n",
              "    }\n",
              "\n",
              "    [theme=dark] .colab-df-convert:hover {\n",
              "      background-color: #434B5C;\n",
              "      box-shadow: 0px 1px 3px 1px rgba(0, 0, 0, 0.15);\n",
              "      filter: drop-shadow(0px 1px 2px rgba(0, 0, 0, 0.3));\n",
              "      fill: #FFFFFF;\n",
              "    }\n",
              "  </style>\n",
              "\n",
              "    <script>\n",
              "      const buttonEl =\n",
              "        document.querySelector('#df-98177b43-3fb3-4af9-8232-25016824016b button.colab-df-convert');\n",
              "      buttonEl.style.display =\n",
              "        google.colab.kernel.accessAllowed ? 'block' : 'none';\n",
              "\n",
              "      async function convertToInteractive(key) {\n",
              "        const element = document.querySelector('#df-98177b43-3fb3-4af9-8232-25016824016b');\n",
              "        const dataTable =\n",
              "          await google.colab.kernel.invokeFunction('convertToInteractive',\n",
              "                                                    [key], {});\n",
              "        if (!dataTable) return;\n",
              "\n",
              "        const docLinkHtml = 'Like what you see? Visit the ' +\n",
              "          '<a target=\"_blank\" href=https://colab.research.google.com/notebooks/data_table.ipynb>data table notebook</a>'\n",
              "          + ' to learn more about interactive tables.';\n",
              "        element.innerHTML = '';\n",
              "        dataTable['output_type'] = 'display_data';\n",
              "        await google.colab.output.renderOutput(dataTable, element);\n",
              "        const docLink = document.createElement('div');\n",
              "        docLink.innerHTML = docLinkHtml;\n",
              "        element.appendChild(docLink);\n",
              "      }\n",
              "    </script>\n",
              "  </div>\n",
              "\n",
              "\n",
              "<div id=\"df-93915160-a12e-48b5-a060-4a3bb730c13d\">\n",
              "  <button class=\"colab-df-quickchart\" onclick=\"quickchart('df-93915160-a12e-48b5-a060-4a3bb730c13d')\"\n",
              "            title=\"Suggest charts\"\n",
              "            style=\"display:none;\">\n",
              "\n",
              "<svg xmlns=\"http://www.w3.org/2000/svg\" height=\"24px\"viewBox=\"0 0 24 24\"\n",
              "     width=\"24px\">\n",
              "    <g>\n",
              "        <path d=\"M19 3H5c-1.1 0-2 .9-2 2v14c0 1.1.9 2 2 2h14c1.1 0 2-.9 2-2V5c0-1.1-.9-2-2-2zM9 17H7v-7h2v7zm4 0h-2V7h2v10zm4 0h-2v-4h2v4z\"/>\n",
              "    </g>\n",
              "</svg>\n",
              "  </button>\n",
              "\n",
              "<style>\n",
              "  .colab-df-quickchart {\n",
              "      --bg-color: #E8F0FE;\n",
              "      --fill-color: #1967D2;\n",
              "      --hover-bg-color: #E2EBFA;\n",
              "      --hover-fill-color: #174EA6;\n",
              "      --disabled-fill-color: #AAA;\n",
              "      --disabled-bg-color: #DDD;\n",
              "  }\n",
              "\n",
              "  [theme=dark] .colab-df-quickchart {\n",
              "      --bg-color: #3B4455;\n",
              "      --fill-color: #D2E3FC;\n",
              "      --hover-bg-color: #434B5C;\n",
              "      --hover-fill-color: #FFFFFF;\n",
              "      --disabled-bg-color: #3B4455;\n",
              "      --disabled-fill-color: #666;\n",
              "  }\n",
              "\n",
              "  .colab-df-quickchart {\n",
              "    background-color: var(--bg-color);\n",
              "    border: none;\n",
              "    border-radius: 50%;\n",
              "    cursor: pointer;\n",
              "    display: none;\n",
              "    fill: var(--fill-color);\n",
              "    height: 32px;\n",
              "    padding: 0;\n",
              "    width: 32px;\n",
              "  }\n",
              "\n",
              "  .colab-df-quickchart:hover {\n",
              "    background-color: var(--hover-bg-color);\n",
              "    box-shadow: 0 1px 2px rgba(60, 64, 67, 0.3), 0 1px 3px 1px rgba(60, 64, 67, 0.15);\n",
              "    fill: var(--button-hover-fill-color);\n",
              "  }\n",
              "\n",
              "  .colab-df-quickchart-complete:disabled,\n",
              "  .colab-df-quickchart-complete:disabled:hover {\n",
              "    background-color: var(--disabled-bg-color);\n",
              "    fill: var(--disabled-fill-color);\n",
              "    box-shadow: none;\n",
              "  }\n",
              "\n",
              "  .colab-df-spinner {\n",
              "    border: 2px solid var(--fill-color);\n",
              "    border-color: transparent;\n",
              "    border-bottom-color: var(--fill-color);\n",
              "    animation:\n",
              "      spin 1s steps(1) infinite;\n",
              "  }\n",
              "\n",
              "  @keyframes spin {\n",
              "    0% {\n",
              "      border-color: transparent;\n",
              "      border-bottom-color: var(--fill-color);\n",
              "      border-left-color: var(--fill-color);\n",
              "    }\n",
              "    20% {\n",
              "      border-color: transparent;\n",
              "      border-left-color: var(--fill-color);\n",
              "      border-top-color: var(--fill-color);\n",
              "    }\n",
              "    30% {\n",
              "      border-color: transparent;\n",
              "      border-left-color: var(--fill-color);\n",
              "      border-top-color: var(--fill-color);\n",
              "      border-right-color: var(--fill-color);\n",
              "    }\n",
              "    40% {\n",
              "      border-color: transparent;\n",
              "      border-right-color: var(--fill-color);\n",
              "      border-top-color: var(--fill-color);\n",
              "    }\n",
              "    60% {\n",
              "      border-color: transparent;\n",
              "      border-right-color: var(--fill-color);\n",
              "    }\n",
              "    80% {\n",
              "      border-color: transparent;\n",
              "      border-right-color: var(--fill-color);\n",
              "      border-bottom-color: var(--fill-color);\n",
              "    }\n",
              "    90% {\n",
              "      border-color: transparent;\n",
              "      border-bottom-color: var(--fill-color);\n",
              "    }\n",
              "  }\n",
              "</style>\n",
              "\n",
              "  <script>\n",
              "    async function quickchart(key) {\n",
              "      const quickchartButtonEl =\n",
              "        document.querySelector('#' + key + ' button');\n",
              "      quickchartButtonEl.disabled = true;  // To prevent multiple clicks.\n",
              "      quickchartButtonEl.classList.add('colab-df-spinner');\n",
              "      try {\n",
              "        const charts = await google.colab.kernel.invokeFunction(\n",
              "            'suggestCharts', [key], {});\n",
              "      } catch (error) {\n",
              "        console.error('Error during call to suggestCharts:', error);\n",
              "      }\n",
              "      quickchartButtonEl.classList.remove('colab-df-spinner');\n",
              "      quickchartButtonEl.classList.add('colab-df-quickchart-complete');\n",
              "    }\n",
              "    (() => {\n",
              "      let quickchartButtonEl =\n",
              "        document.querySelector('#df-93915160-a12e-48b5-a060-4a3bb730c13d button');\n",
              "      quickchartButtonEl.style.display =\n",
              "        google.colab.kernel.accessAllowed ? 'block' : 'none';\n",
              "    })();\n",
              "  </script>\n",
              "</div>\n",
              "\n",
              "    </div>\n",
              "  </div>\n"
            ],
            "application/vnd.google.colaboratory.intrinsic+json": {
              "type": "dataframe",
              "variable_name": "df",
              "summary": "{\n  \"name\": \"df\",\n  \"rows\": 6448,\n  \"fields\": [\n    {\n      \"column\": \"Review\",\n      \"properties\": {\n        \"dtype\": \"string\",\n        \"num_unique_values\": 6384,\n        \"samples\": [\n          \"Long wait to check in no coffee machine in room and had to pay to leave luggage even though we tad paid a service charge every night ! Best bit was location .\\n  \\n  Read more\\n  Read less\",\n          \"I would love to stay here again.. it was so nice everything\\n  \\n  Read more\\n  Read less\",\n          \"Stayed for 5 nights in September. The service couldn't be faulted, we arrived a couple of hours before check in time, after 14 hours travelling, so i asked at the desk if we could get into a room early. Not only did they let us into the room they found us one on the 36th floor\\u2026\"\n        ],\n        \"semantic_type\": \"\",\n        \"description\": \"\"\n      }\n    },\n    {\n      \"column\": \"date\",\n      \"properties\": {\n        \"dtype\": \"date\",\n        \"min\": \"2018-08-01 00:00:00\",\n        \"max\": \"2019-08-20 00:00:00\",\n        \"num_unique_values\": 385,\n        \"samples\": [\n          \"2018-11-25 00:00:00\",\n          \"2018-12-13 00:00:00\",\n          \"2018-08-30 00:00:00\"\n        ],\n        \"semantic_type\": \"\",\n        \"description\": \"\"\n      }\n    },\n    {\n      \"column\": \"Location\",\n      \"properties\": {\n        \"dtype\": \"category\",\n        \"num_unique_values\": 1082,\n        \"samples\": [\n          \"Vancouver\",\n          \"Southwick us\",\n          \"Studio City, CA\"\n        ],\n        \"semantic_type\": \"\",\n        \"description\": \"\"\n      }\n    }\n  ]\n}"
            }
          },
          "metadata": {},
          "execution_count": 5
        }
      ]
    },
    {
      "cell_type": "code",
      "source": [
        "#Removing leading/trailing whitespace in textual data\n",
        "df['Review'] = df['Review'].str.strip()\n",
        "df['Location'] = df['Location'].str.strip()"
      ],
      "metadata": {
        "id": "tDJ4kmpVGiCF"
      },
      "execution_count": null,
      "outputs": []
    },
    {
      "cell_type": "code",
      "source": [
        "#Checking for and handle missing values\n",
        "missing_values = df.isnull().sum()\n",
        "missing_values"
      ],
      "metadata": {
        "colab": {
          "base_uri": "https://localhost:8080/"
        },
        "id": "6YzzPA87GnRG",
        "outputId": "5b4709e1-a22f-4a07-e09f-628809269f20"
      },
      "execution_count": null,
      "outputs": [
        {
          "output_type": "execute_result",
          "data": {
            "text/plain": [
              "Review        55\n",
              "date           0\n",
              "Location    4738\n",
              "dtype: int64"
            ]
          },
          "metadata": {},
          "execution_count": 11
        }
      ]
    },
    {
      "cell_type": "code",
      "source": [
        "# Fill missing values in 'Location' with 'Unknown' as dropping them can lead a lot of data loss\n",
        "df['Location'] = df['Location'].fillna('Unknown')"
      ],
      "metadata": {
        "id": "KqpLFgQIGsSw"
      },
      "execution_count": null,
      "outputs": []
    },
    {
      "cell_type": "code",
      "source": [
        "#We will drop missing reviews\n",
        "df.dropna(inplace=True)"
      ],
      "metadata": {
        "id": "YiMk38BZHHAA"
      },
      "execution_count": null,
      "outputs": []
    },
    {
      "cell_type": "code",
      "source": [
        "#Converting dates to a proper datetime format\n",
        "df['date'] = pd.to_datetime(df['date'], errors='coerce')"
      ],
      "metadata": {
        "id": "m9mxVF9OHUUM"
      },
      "execution_count": null,
      "outputs": []
    },
    {
      "cell_type": "code",
      "source": [
        "#Removing any duplicate entries\n",
        "df.drop_duplicates(inplace=True)"
      ],
      "metadata": {
        "id": "X8PSeflCHzAu"
      },
      "execution_count": null,
      "outputs": []
    },
    {
      "cell_type": "code",
      "source": [
        "import re\n",
        "\n",
        "# Function to clean \"Read more\" and \"Read less\"\n",
        "def clean_review(review):\n",
        "    return re.sub(r'\\s*Read more\\s*Read less\\s*', '', review, flags=re.IGNORECASE)\n",
        "\n",
        "# Apply the function to the Review column\n",
        "df['Review'] = df['Review'].apply(clean_review)"
      ],
      "metadata": {
        "id": "MZJrd_MXILsK"
      },
      "execution_count": null,
      "outputs": []
    },
    {
      "cell_type": "code",
      "source": [
        "# For simplicity, let's count the number of words in each review\n",
        "df['Review_Length'] = df['Review'].apply(lambda x: len(str(x).split()))"
      ],
      "metadata": {
        "id": "DQNNemcmI-Ks"
      },
      "execution_count": null,
      "outputs": []
    },
    {
      "cell_type": "code",
      "source": [
        "# Group data by 'Location' and analyze the average review length\n",
        "location_grouped = df.groupby('Location')['Review_Length'].agg(['mean', 'count']).reset_index()\n",
        "location_grouped = location_grouped.sort_values(by='count', ascending=False)"
      ],
      "metadata": {
        "id": "BgCU6H3oJNrC"
      },
      "execution_count": null,
      "outputs": []
    },
    {
      "cell_type": "markdown",
      "source": [
        "**INSIGHTS:**"
      ],
      "metadata": {
        "id": "1wt_18GcJfhA"
      }
    },
    {
      "cell_type": "code",
      "source": [
        "#1. Location with the highest number of reviews\n",
        "top_location = location_grouped.iloc[0]['Location']\n",
        "second_most_top = location_grouped.iloc[1]['Location']\n",
        "print(\"Location with the highest number of reviews:\", top_location,\"\\n\",\"Followed by:\",  second_most_top)"
      ],
      "metadata": {
        "colab": {
          "base_uri": "https://localhost:8080/"
        },
        "id": "hZtXHuLyJje1",
        "outputId": "8d3ed95a-2de1-4e51-c041-fdae30275287"
      },
      "execution_count": null,
      "outputs": [
        {
          "output_type": "stream",
          "name": "stdout",
          "text": [
            "Location with the highest number of reviews: Unknown \n",
            " Followed by: United States of America\n"
          ]
        }
      ]
    },
    {
      "cell_type": "code",
      "source": [
        "#Since we know most of the locations were null, therefore it has highest number of reviews.\n",
        "#So we can conclude USA has most number of reviews."
      ],
      "metadata": {
        "id": "lBHEMUwMJ0dZ"
      },
      "execution_count": null,
      "outputs": []
    },
    {
      "cell_type": "code",
      "source": [
        "#2. Average Overall review length and of top location\n",
        "top_location_avg_review_length = location_grouped.iloc[0]['mean']\n",
        "second_location_avg_review_length = location_grouped.iloc[1]['mean']\n",
        "overall_avg_review_length = df['Review_Length'].mean()\n",
        "\n",
        "print(\"Average review length for the top location(UNKNOWN):\", top_location_avg_review_length,\"\\n\",\"Followed by:(USA)\",  second_location_avg_review_length,\"\\n\",\"Overall average review length\", overall_avg_review_length)"
      ],
      "metadata": {
        "colab": {
          "base_uri": "https://localhost:8080/"
        },
        "id": "FeDB0Cj6KuZ9",
        "outputId": "84e55c84-90e6-4830-e3e2-110a4eb55c60"
      },
      "execution_count": null,
      "outputs": [
        {
          "output_type": "stream",
          "name": "stdout",
          "text": [
            "Average review length for the top location(UNKNOWN): 39.23395180209 \n",
            " Followed by:(USA) 30.71551724137931 \n",
            " Overall average review length 39.69654309400907\n"
          ]
        }
      ]
    },
    {
      "cell_type": "code",
      "source": [
        "#3. Distribution of reviews across locations\n",
        "\n",
        "location_grouped = df.groupby('Location').size().reset_index(name='count')\n",
        "\n",
        "# Sort and get the top 10 locations\n",
        "top_10_locations = location_grouped.nlargest(10, 'count')\n",
        "\n",
        "# Plot the distribution of review counts for the top 10 locations\n",
        "plt.figure(figsize=(12, 6))\n",
        "sns.barplot(x='Location', y='count', data=top_10_locations, palette='viridis')\n",
        "plt.title('Top 10 Locations by Number of Reviews')\n",
        "plt.xlabel('Location')\n",
        "plt.ylabel('Number of Reviews')\n",
        "plt.xticks(rotation=45, ha='right')  # Rotate x-axis labels\n",
        "plt.grid(True)\n",
        "plt.show()"
      ],
      "metadata": {
        "colab": {
          "base_uri": "https://localhost:8080/",
          "height": 785
        },
        "id": "lu6GXZd5M7Ss",
        "outputId": "1c5d993d-9a8a-4e5d-c0a9-428fa91daedd"
      },
      "execution_count": null,
      "outputs": [
        {
          "output_type": "stream",
          "name": "stderr",
          "text": [
            "<ipython-input-55-421b60e322eb>:10: FutureWarning: \n",
            "\n",
            "Passing `palette` without assigning `hue` is deprecated and will be removed in v0.14.0. Assign the `x` variable to `hue` and set `legend=False` for the same effect.\n",
            "\n",
            "  sns.barplot(x='Location', y='count', data=top_10_locations, palette='viridis')\n"
          ]
        },
        {
          "output_type": "display_data",
          "data": {
            "text/plain": [
              "<Figure size 1200x600 with 1 Axes>"
            ],
            "image/png": "[encoded data removed]"
          },
          "metadata": {}
        }
      ]
    },
    {
      "cell_type": "code",
      "source": [
        "#4. Most frequent review date\n",
        "most_frequent_review_date = df['date'].mode()[0]\n",
        "print(\"Most frequent review date:\", most_frequent_review_date)"
      ],
      "metadata": {
        "colab": {
          "base_uri": "https://localhost:8080/"
        },
        "id": "NZbDG5SuNlix",
        "outputId": "7a00e339-8fbe-41f7-92a8-9993f9c91b52"
      },
      "execution_count": null,
      "outputs": [
        {
          "output_type": "stream",
          "name": "stdout",
          "text": [
            "Most frequent review date: 2019-06-01 00:00:00\n"
          ]
        }
      ]
    },
    {
      "cell_type": "code",
      "source": [
        "#5. Most common words in reviews\n",
        "from collections import Counter\n",
        "import re\n",
        "import nltk\n",
        "from tabulate import tabulate\n",
        "\n",
        "#Download NLTK stopwords\n",
        "nltk.download('stopwords')\n",
        "\n",
        "#Combining all reviews into a single string\n",
        "all_reviews = ' '.join(df['Review'])\n",
        "\n",
        "#Cleaning the text\n",
        "all_reviews = re.sub(r'\\W+', ' ', all_reviews).lower()\n",
        "\n",
        "#Split into words and remove stop words\n",
        "word_list = all_reviews.split()\n",
        "\n",
        "#Loading NLTK stop words & Removing stop words\n",
        "stop_words = set(nltk.corpus.stopwords.words('english'))\n",
        "word_list = [word for word in word_list if word not in stop_words]\n",
        "\n",
        "#Counting frequencies & Geting the most common words\n",
        "word_counts = Counter(word_list)\n",
        "common_words = word_counts.most_common(10)\n",
        "\n",
        "# Print output in table format\n",
        "print(tabulate(common_words, headers=['Word', 'Count'], tablefmt='grid'))"
      ],
      "metadata": {
        "colab": {
          "base_uri": "https://localhost:8080/"
        },
        "id": "W2DWWoNkPE9-",
        "outputId": "f3891d15-6d96-40bd-c143-386620d85709"
      },
      "execution_count": null,
      "outputs": [
        {
          "output_type": "stream",
          "name": "stdout",
          "text": [
            "+----------+---------+\n",
            "| Word     |   Count |\n",
            "+==========+=========+\n",
            "| room     |    3512 |\n",
            "+----------+---------+\n",
            "| hotel    |    3006 |\n",
            "+----------+---------+\n",
            "| staff    |    1798 |\n",
            "+----------+---------+\n",
            "| great    |    1637 |\n",
            "+----------+---------+\n",
            "| location |    1381 |\n",
            "+----------+---------+\n",
            "| clean    |    1367 |\n",
            "+----------+---------+\n",
            "| stay     |    1313 |\n",
            "+----------+---------+\n",
            "| nice     |    1255 |\n",
            "+----------+---------+\n",
            "| rooms    |    1116 |\n",
            "+----------+---------+\n",
            "| good     |     977 |\n",
            "+----------+---------+\n"
          ]
        },
        {
          "output_type": "stream",
          "name": "stderr",
          "text": [
            "[nltk_data] Downloading package stopwords to /root/nltk_data...\n",
            "[nltk_data]   Package stopwords is already up-to-date!\n"
          ]
        }
      ]
    },
    {
      "cell_type": "code",
      "source": [],
      "metadata": {
        "id": "-RQpOtqDQRS8"
      },
      "execution_count": null,
      "outputs": []
    }
  ]
}